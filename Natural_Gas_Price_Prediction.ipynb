{
  "nbformat": 4,
  "nbformat_minor": 0,
  "metadata": {
    "colab": {
      "name": "Natural_Gas_Price_Prediction.ipynb",
      "provenance": [],
      "collapsed_sections": []
    },
    "kernelspec": {
      "name": "python3",
      "display_name": "Python 3"
    },
    "language_info": {
      "name": "python"
    }
  },
  "cells": [
    {
      "cell_type": "code",
      "execution_count": null,
      "metadata": {
        "id": "4BX-aAnKX4Tx"
      },
      "outputs": [],
      "source": [
        "%tensorflow_version 2.x"
      ]
    },
    {
      "cell_type": "code",
      "source": [
        "import pandas as pd\n",
        "import numpy as np\n",
        "import matplotlib.pyplot as plt\n",
        "import tensorflow as tf\n",
        "import seaborn as sns\n",
        "\n",
        "from sklearn.model_selection import train_test_split\n",
        "from sklearn import preprocessing\n",
        "from sklearn.metrics import mean_squared_error as mse\n",
        "\n",
        "from tensorflow.keras.models import Sequential, load_model\n",
        "from tensorflow.keras.layers import *\n",
        "from tensorflow.keras.callbacks import ModelCheckpoint\n",
        "from tensorflow.keras.losses import MeanSquaredError\n",
        "from tensorflow.keras.metrics import RootMeanSquaredError\n",
        "from tensorflow.keras.optimizers import Adam"
      ],
      "metadata": {
        "id": "4fDWYgW7bAdW"
      },
      "execution_count": null,
      "outputs": []
    },
    {
      "cell_type": "markdown",
      "source": [
        "# **Time-Series Data**"
      ],
      "metadata": {
        "id": "hXedfudlVzCJ"
      }
    },
    {
      "cell_type": "code",
      "source": [
        "ng=pd.read_csv('/content/Natural_Gas.csv')\n",
        "ng.head()"
      ],
      "metadata": {
        "id": "XReXaVnhbJMk",
        "colab": {
          "base_uri": "https://localhost:8080/",
          "height": 206
        },
        "outputId": "05a6dbad-5283-4f53-d13f-9e840477f9e8"
      },
      "execution_count": null,
      "outputs": [
        {
          "output_type": "execute_result",
          "data": {
            "text/plain": [
              "           Date  Price  Open  High   Low  Vol.(in K )  Change %\n",
              "0  Jun 16, 2022   7.67  7.57  7.67  7.51          NaN      0.03\n",
              "1  Jun 15, 2022   7.42  7.27  7.70  7.20       123.59      0.03\n",
              "2  Jun 14, 2022   7.19  8.69  8.89  7.01       273.72     -0.16\n",
              "3  Jun 13, 2022   8.61  8.92  8.95  8.38       167.56     -0.03\n",
              "4  Jun 10, 2022   8.85  9.00  9.15  8.62       134.61     -0.01"
            ],
            "text/html": [
              "\n",
              "  <div id=\"df-9c2d3d11-764a-4c48-bfad-d7f9a52d723e\">\n",
              "    <div class=\"colab-df-container\">\n",
              "      <div>\n",
              "<style scoped>\n",
              "    .dataframe tbody tr th:only-of-type {\n",
              "        vertical-align: middle;\n",
              "    }\n",
              "\n",
              "    .dataframe tbody tr th {\n",
              "        vertical-align: top;\n",
              "    }\n",
              "\n",
              "    .dataframe thead th {\n",
              "        text-align: right;\n",
              "    }\n",
              "</style>\n",
              "<table border=\"1\" class=\"dataframe\">\n",
              "  <thead>\n",
              "    <tr style=\"text-align: right;\">\n",
              "      <th></th>\n",
              "      <th>Date</th>\n",
              "      <th>Price</th>\n",
              "      <th>Open</th>\n",
              "      <th>High</th>\n",
              "      <th>Low</th>\n",
              "      <th>Vol.(in K )</th>\n",
              "      <th>Change %</th>\n",
              "    </tr>\n",
              "  </thead>\n",
              "  <tbody>\n",
              "    <tr>\n",
              "      <th>0</th>\n",
              "      <td>Jun 16, 2022</td>\n",
              "      <td>7.67</td>\n",
              "      <td>7.57</td>\n",
              "      <td>7.67</td>\n",
              "      <td>7.51</td>\n",
              "      <td>NaN</td>\n",
              "      <td>0.03</td>\n",
              "    </tr>\n",
              "    <tr>\n",
              "      <th>1</th>\n",
              "      <td>Jun 15, 2022</td>\n",
              "      <td>7.42</td>\n",
              "      <td>7.27</td>\n",
              "      <td>7.70</td>\n",
              "      <td>7.20</td>\n",
              "      <td>123.59</td>\n",
              "      <td>0.03</td>\n",
              "    </tr>\n",
              "    <tr>\n",
              "      <th>2</th>\n",
              "      <td>Jun 14, 2022</td>\n",
              "      <td>7.19</td>\n",
              "      <td>8.69</td>\n",
              "      <td>8.89</td>\n",
              "      <td>7.01</td>\n",
              "      <td>273.72</td>\n",
              "      <td>-0.16</td>\n",
              "    </tr>\n",
              "    <tr>\n",
              "      <th>3</th>\n",
              "      <td>Jun 13, 2022</td>\n",
              "      <td>8.61</td>\n",
              "      <td>8.92</td>\n",
              "      <td>8.95</td>\n",
              "      <td>8.38</td>\n",
              "      <td>167.56</td>\n",
              "      <td>-0.03</td>\n",
              "    </tr>\n",
              "    <tr>\n",
              "      <th>4</th>\n",
              "      <td>Jun 10, 2022</td>\n",
              "      <td>8.85</td>\n",
              "      <td>9.00</td>\n",
              "      <td>9.15</td>\n",
              "      <td>8.62</td>\n",
              "      <td>134.61</td>\n",
              "      <td>-0.01</td>\n",
              "    </tr>\n",
              "  </tbody>\n",
              "</table>\n",
              "</div>\n",
              "      <button class=\"colab-df-convert\" onclick=\"convertToInteractive('df-9c2d3d11-764a-4c48-bfad-d7f9a52d723e')\"\n",
              "              title=\"Convert this dataframe to an interactive table.\"\n",
              "              style=\"display:none;\">\n",
              "        \n",
              "  <svg xmlns=\"http://www.w3.org/2000/svg\" height=\"24px\"viewBox=\"0 0 24 24\"\n",
              "       width=\"24px\">\n",
              "    <path d=\"M0 0h24v24H0V0z\" fill=\"none\"/>\n",
              "    <path d=\"M18.56 5.44l.94 2.06.94-2.06 2.06-.94-2.06-.94-.94-2.06-.94 2.06-2.06.94zm-11 1L8.5 8.5l.94-2.06 2.06-.94-2.06-.94L8.5 2.5l-.94 2.06-2.06.94zm10 10l.94 2.06.94-2.06 2.06-.94-2.06-.94-.94-2.06-.94 2.06-2.06.94z\"/><path d=\"M17.41 7.96l-1.37-1.37c-.4-.4-.92-.59-1.43-.59-.52 0-1.04.2-1.43.59L10.3 9.45l-7.72 7.72c-.78.78-.78 2.05 0 2.83L4 21.41c.39.39.9.59 1.41.59.51 0 1.02-.2 1.41-.59l7.78-7.78 2.81-2.81c.8-.78.8-2.07 0-2.86zM5.41 20L4 18.59l7.72-7.72 1.47 1.35L5.41 20z\"/>\n",
              "  </svg>\n",
              "      </button>\n",
              "      \n",
              "  <style>\n",
              "    .colab-df-container {\n",
              "      display:flex;\n",
              "      flex-wrap:wrap;\n",
              "      gap: 12px;\n",
              "    }\n",
              "\n",
              "    .colab-df-convert {\n",
              "      background-color: #E8F0FE;\n",
              "      border: none;\n",
              "      border-radius: 50%;\n",
              "      cursor: pointer;\n",
              "      display: none;\n",
              "      fill: #1967D2;\n",
              "      height: 32px;\n",
              "      padding: 0 0 0 0;\n",
              "      width: 32px;\n",
              "    }\n",
              "\n",
              "    .colab-df-convert:hover {\n",
              "      background-color: #E2EBFA;\n",
              "      box-shadow: 0px 1px 2px rgba(60, 64, 67, 0.3), 0px 1px 3px 1px rgba(60, 64, 67, 0.15);\n",
              "      fill: #174EA6;\n",
              "    }\n",
              "\n",
              "    [theme=dark] .colab-df-convert {\n",
              "      background-color: #3B4455;\n",
              "      fill: #D2E3FC;\n",
              "    }\n",
              "\n",
              "    [theme=dark] .colab-df-convert:hover {\n",
              "      background-color: #434B5C;\n",
              "      box-shadow: 0px 1px 3px 1px rgba(0, 0, 0, 0.15);\n",
              "      filter: drop-shadow(0px 1px 2px rgba(0, 0, 0, 0.3));\n",
              "      fill: #FFFFFF;\n",
              "    }\n",
              "  </style>\n",
              "\n",
              "      <script>\n",
              "        const buttonEl =\n",
              "          document.querySelector('#df-9c2d3d11-764a-4c48-bfad-d7f9a52d723e button.colab-df-convert');\n",
              "        buttonEl.style.display =\n",
              "          google.colab.kernel.accessAllowed ? 'block' : 'none';\n",
              "\n",
              "        async function convertToInteractive(key) {\n",
              "          const element = document.querySelector('#df-9c2d3d11-764a-4c48-bfad-d7f9a52d723e');\n",
              "          const dataTable =\n",
              "            await google.colab.kernel.invokeFunction('convertToInteractive',\n",
              "                                                     [key], {});\n",
              "          if (!dataTable) return;\n",
              "\n",
              "          const docLinkHtml = 'Like what you see? Visit the ' +\n",
              "            '<a target=\"_blank\" href=https://colab.research.google.com/notebooks/data_table.ipynb>data table notebook</a>'\n",
              "            + ' to learn more about interactive tables.';\n",
              "          element.innerHTML = '';\n",
              "          dataTable['output_type'] = 'display_data';\n",
              "          await google.colab.output.renderOutput(dataTable, element);\n",
              "          const docLink = document.createElement('div');\n",
              "          docLink.innerHTML = docLinkHtml;\n",
              "          element.appendChild(docLink);\n",
              "        }\n",
              "      </script>\n",
              "    </div>\n",
              "  </div>\n",
              "  "
            ]
          },
          "metadata": {},
          "execution_count": 176
        }
      ]
    },
    {
      "cell_type": "markdown",
      "source": [
        "## **Exploratory Data Analysis**"
      ],
      "metadata": {
        "id": "mwLEjzo9IsPi"
      }
    },
    {
      "cell_type": "code",
      "source": [
        "ng.describe()"
      ],
      "metadata": {
        "colab": {
          "base_uri": "https://localhost:8080/",
          "height": 300
        },
        "id": "XBf6Md59V8K5",
        "outputId": "8f0d08a8-466c-4952-c8b5-3dc53d3be443"
      },
      "execution_count": null,
      "outputs": [
        {
          "output_type": "execute_result",
          "data": {
            "text/plain": [
              "             Price         Open         High          Low  Vol.(in K )  \\\n",
              "count  2734.000000  2734.000000  2734.000000  2734.000000  2627.000000   \n",
              "mean      3.176342     3.178040     3.245688     3.111752   136.397214   \n",
              "std       1.062301     1.060537     1.102369     1.022979    60.982998   \n",
              "min       1.480000     1.440000     1.570000     1.430000     1.470000   \n",
              "25%       2.580000     2.590000     2.630000     2.540000    99.790000   \n",
              "50%       2.910000     2.910000     2.960000     2.870000   134.950000   \n",
              "75%       3.650000     3.650000     3.720000     3.590000   170.210000   \n",
              "max       9.320000     9.360000     9.660000     9.200000   459.200000   \n",
              "\n",
              "          Change %  \n",
              "count  2734.000000  \n",
              "mean      0.000830  \n",
              "std       0.031568  \n",
              "min      -0.170000  \n",
              "25%      -0.020000  \n",
              "50%       0.000000  \n",
              "75%       0.020000  \n",
              "max       0.220000  "
            ],
            "text/html": [
              "\n",
              "  <div id=\"df-59002ae5-0370-4d8e-919f-6f586063ab9a\">\n",
              "    <div class=\"colab-df-container\">\n",
              "      <div>\n",
              "<style scoped>\n",
              "    .dataframe tbody tr th:only-of-type {\n",
              "        vertical-align: middle;\n",
              "    }\n",
              "\n",
              "    .dataframe tbody tr th {\n",
              "        vertical-align: top;\n",
              "    }\n",
              "\n",
              "    .dataframe thead th {\n",
              "        text-align: right;\n",
              "    }\n",
              "</style>\n",
              "<table border=\"1\" class=\"dataframe\">\n",
              "  <thead>\n",
              "    <tr style=\"text-align: right;\">\n",
              "      <th></th>\n",
              "      <th>Price</th>\n",
              "      <th>Open</th>\n",
              "      <th>High</th>\n",
              "      <th>Low</th>\n",
              "      <th>Vol.(in K )</th>\n",
              "      <th>Change %</th>\n",
              "    </tr>\n",
              "  </thead>\n",
              "  <tbody>\n",
              "    <tr>\n",
              "      <th>count</th>\n",
              "      <td>2734.000000</td>\n",
              "      <td>2734.000000</td>\n",
              "      <td>2734.000000</td>\n",
              "      <td>2734.000000</td>\n",
              "      <td>2627.000000</td>\n",
              "      <td>2734.000000</td>\n",
              "    </tr>\n",
              "    <tr>\n",
              "      <th>mean</th>\n",
              "      <td>3.176342</td>\n",
              "      <td>3.178040</td>\n",
              "      <td>3.245688</td>\n",
              "      <td>3.111752</td>\n",
              "      <td>136.397214</td>\n",
              "      <td>0.000830</td>\n",
              "    </tr>\n",
              "    <tr>\n",
              "      <th>std</th>\n",
              "      <td>1.062301</td>\n",
              "      <td>1.060537</td>\n",
              "      <td>1.102369</td>\n",
              "      <td>1.022979</td>\n",
              "      <td>60.982998</td>\n",
              "      <td>0.031568</td>\n",
              "    </tr>\n",
              "    <tr>\n",
              "      <th>min</th>\n",
              "      <td>1.480000</td>\n",
              "      <td>1.440000</td>\n",
              "      <td>1.570000</td>\n",
              "      <td>1.430000</td>\n",
              "      <td>1.470000</td>\n",
              "      <td>-0.170000</td>\n",
              "    </tr>\n",
              "    <tr>\n",
              "      <th>25%</th>\n",
              "      <td>2.580000</td>\n",
              "      <td>2.590000</td>\n",
              "      <td>2.630000</td>\n",
              "      <td>2.540000</td>\n",
              "      <td>99.790000</td>\n",
              "      <td>-0.020000</td>\n",
              "    </tr>\n",
              "    <tr>\n",
              "      <th>50%</th>\n",
              "      <td>2.910000</td>\n",
              "      <td>2.910000</td>\n",
              "      <td>2.960000</td>\n",
              "      <td>2.870000</td>\n",
              "      <td>134.950000</td>\n",
              "      <td>0.000000</td>\n",
              "    </tr>\n",
              "    <tr>\n",
              "      <th>75%</th>\n",
              "      <td>3.650000</td>\n",
              "      <td>3.650000</td>\n",
              "      <td>3.720000</td>\n",
              "      <td>3.590000</td>\n",
              "      <td>170.210000</td>\n",
              "      <td>0.020000</td>\n",
              "    </tr>\n",
              "    <tr>\n",
              "      <th>max</th>\n",
              "      <td>9.320000</td>\n",
              "      <td>9.360000</td>\n",
              "      <td>9.660000</td>\n",
              "      <td>9.200000</td>\n",
              "      <td>459.200000</td>\n",
              "      <td>0.220000</td>\n",
              "    </tr>\n",
              "  </tbody>\n",
              "</table>\n",
              "</div>\n",
              "      <button class=\"colab-df-convert\" onclick=\"convertToInteractive('df-59002ae5-0370-4d8e-919f-6f586063ab9a')\"\n",
              "              title=\"Convert this dataframe to an interactive table.\"\n",
              "              style=\"display:none;\">\n",
              "        \n",
              "  <svg xmlns=\"http://www.w3.org/2000/svg\" height=\"24px\"viewBox=\"0 0 24 24\"\n",
              "       width=\"24px\">\n",
              "    <path d=\"M0 0h24v24H0V0z\" fill=\"none\"/>\n",
              "    <path d=\"M18.56 5.44l.94 2.06.94-2.06 2.06-.94-2.06-.94-.94-2.06-.94 2.06-2.06.94zm-11 1L8.5 8.5l.94-2.06 2.06-.94-2.06-.94L8.5 2.5l-.94 2.06-2.06.94zm10 10l.94 2.06.94-2.06 2.06-.94-2.06-.94-.94-2.06-.94 2.06-2.06.94z\"/><path d=\"M17.41 7.96l-1.37-1.37c-.4-.4-.92-.59-1.43-.59-.52 0-1.04.2-1.43.59L10.3 9.45l-7.72 7.72c-.78.78-.78 2.05 0 2.83L4 21.41c.39.39.9.59 1.41.59.51 0 1.02-.2 1.41-.59l7.78-7.78 2.81-2.81c.8-.78.8-2.07 0-2.86zM5.41 20L4 18.59l7.72-7.72 1.47 1.35L5.41 20z\"/>\n",
              "  </svg>\n",
              "      </button>\n",
              "      \n",
              "  <style>\n",
              "    .colab-df-container {\n",
              "      display:flex;\n",
              "      flex-wrap:wrap;\n",
              "      gap: 12px;\n",
              "    }\n",
              "\n",
              "    .colab-df-convert {\n",
              "      background-color: #E8F0FE;\n",
              "      border: none;\n",
              "      border-radius: 50%;\n",
              "      cursor: pointer;\n",
              "      display: none;\n",
              "      fill: #1967D2;\n",
              "      height: 32px;\n",
              "      padding: 0 0 0 0;\n",
              "      width: 32px;\n",
              "    }\n",
              "\n",
              "    .colab-df-convert:hover {\n",
              "      background-color: #E2EBFA;\n",
              "      box-shadow: 0px 1px 2px rgba(60, 64, 67, 0.3), 0px 1px 3px 1px rgba(60, 64, 67, 0.15);\n",
              "      fill: #174EA6;\n",
              "    }\n",
              "\n",
              "    [theme=dark] .colab-df-convert {\n",
              "      background-color: #3B4455;\n",
              "      fill: #D2E3FC;\n",
              "    }\n",
              "\n",
              "    [theme=dark] .colab-df-convert:hover {\n",
              "      background-color: #434B5C;\n",
              "      box-shadow: 0px 1px 3px 1px rgba(0, 0, 0, 0.15);\n",
              "      filter: drop-shadow(0px 1px 2px rgba(0, 0, 0, 0.3));\n",
              "      fill: #FFFFFF;\n",
              "    }\n",
              "  </style>\n",
              "\n",
              "      <script>\n",
              "        const buttonEl =\n",
              "          document.querySelector('#df-59002ae5-0370-4d8e-919f-6f586063ab9a button.colab-df-convert');\n",
              "        buttonEl.style.display =\n",
              "          google.colab.kernel.accessAllowed ? 'block' : 'none';\n",
              "\n",
              "        async function convertToInteractive(key) {\n",
              "          const element = document.querySelector('#df-59002ae5-0370-4d8e-919f-6f586063ab9a');\n",
              "          const dataTable =\n",
              "            await google.colab.kernel.invokeFunction('convertToInteractive',\n",
              "                                                     [key], {});\n",
              "          if (!dataTable) return;\n",
              "\n",
              "          const docLinkHtml = 'Like what you see? Visit the ' +\n",
              "            '<a target=\"_blank\" href=https://colab.research.google.com/notebooks/data_table.ipynb>data table notebook</a>'\n",
              "            + ' to learn more about interactive tables.';\n",
              "          element.innerHTML = '';\n",
              "          dataTable['output_type'] = 'display_data';\n",
              "          await google.colab.output.renderOutput(dataTable, element);\n",
              "          const docLink = document.createElement('div');\n",
              "          docLink.innerHTML = docLinkHtml;\n",
              "          element.appendChild(docLink);\n",
              "        }\n",
              "      </script>\n",
              "    </div>\n",
              "  </div>\n",
              "  "
            ]
          },
          "metadata": {},
          "execution_count": 177
        }
      ]
    },
    {
      "cell_type": "code",
      "source": [
        "# Feature data types\n",
        "ng.dtypes"
      ],
      "metadata": {
        "colab": {
          "base_uri": "https://localhost:8080/"
        },
        "id": "DGmLzX09dXTE",
        "outputId": "ad0d5049-a807-438a-bc1b-41f96c4c663a"
      },
      "execution_count": null,
      "outputs": [
        {
          "output_type": "execute_result",
          "data": {
            "text/plain": [
              "Date            object\n",
              "Price          float64\n",
              "Open           float64\n",
              "High           float64\n",
              "Low            float64\n",
              "Vol.(in K )    float64\n",
              "Change %       float64\n",
              "dtype: object"
            ]
          },
          "metadata": {},
          "execution_count": 178
        }
      ]
    },
    {
      "cell_type": "code",
      "source": [
        "ng['Vol.(in K )']=ng['Vol.(in K )'].fillna(0)\n",
        "ng.head()"
      ],
      "metadata": {
        "id": "WQb-9rwpd7bN",
        "colab": {
          "base_uri": "https://localhost:8080/",
          "height": 206
        },
        "outputId": "4044a25f-306c-40eb-a8bd-491255560297"
      },
      "execution_count": null,
      "outputs": [
        {
          "output_type": "execute_result",
          "data": {
            "text/plain": [
              "           Date  Price  Open  High   Low  Vol.(in K )  Change %\n",
              "0  Jun 16, 2022   7.67  7.57  7.67  7.51         0.00      0.03\n",
              "1  Jun 15, 2022   7.42  7.27  7.70  7.20       123.59      0.03\n",
              "2  Jun 14, 2022   7.19  8.69  8.89  7.01       273.72     -0.16\n",
              "3  Jun 13, 2022   8.61  8.92  8.95  8.38       167.56     -0.03\n",
              "4  Jun 10, 2022   8.85  9.00  9.15  8.62       134.61     -0.01"
            ],
            "text/html": [
              "\n",
              "  <div id=\"df-4c856ee7-25fc-431c-957b-83f3a584d438\">\n",
              "    <div class=\"colab-df-container\">\n",
              "      <div>\n",
              "<style scoped>\n",
              "    .dataframe tbody tr th:only-of-type {\n",
              "        vertical-align: middle;\n",
              "    }\n",
              "\n",
              "    .dataframe tbody tr th {\n",
              "        vertical-align: top;\n",
              "    }\n",
              "\n",
              "    .dataframe thead th {\n",
              "        text-align: right;\n",
              "    }\n",
              "</style>\n",
              "<table border=\"1\" class=\"dataframe\">\n",
              "  <thead>\n",
              "    <tr style=\"text-align: right;\">\n",
              "      <th></th>\n",
              "      <th>Date</th>\n",
              "      <th>Price</th>\n",
              "      <th>Open</th>\n",
              "      <th>High</th>\n",
              "      <th>Low</th>\n",
              "      <th>Vol.(in K )</th>\n",
              "      <th>Change %</th>\n",
              "    </tr>\n",
              "  </thead>\n",
              "  <tbody>\n",
              "    <tr>\n",
              "      <th>0</th>\n",
              "      <td>Jun 16, 2022</td>\n",
              "      <td>7.67</td>\n",
              "      <td>7.57</td>\n",
              "      <td>7.67</td>\n",
              "      <td>7.51</td>\n",
              "      <td>0.00</td>\n",
              "      <td>0.03</td>\n",
              "    </tr>\n",
              "    <tr>\n",
              "      <th>1</th>\n",
              "      <td>Jun 15, 2022</td>\n",
              "      <td>7.42</td>\n",
              "      <td>7.27</td>\n",
              "      <td>7.70</td>\n",
              "      <td>7.20</td>\n",
              "      <td>123.59</td>\n",
              "      <td>0.03</td>\n",
              "    </tr>\n",
              "    <tr>\n",
              "      <th>2</th>\n",
              "      <td>Jun 14, 2022</td>\n",
              "      <td>7.19</td>\n",
              "      <td>8.69</td>\n",
              "      <td>8.89</td>\n",
              "      <td>7.01</td>\n",
              "      <td>273.72</td>\n",
              "      <td>-0.16</td>\n",
              "    </tr>\n",
              "    <tr>\n",
              "      <th>3</th>\n",
              "      <td>Jun 13, 2022</td>\n",
              "      <td>8.61</td>\n",
              "      <td>8.92</td>\n",
              "      <td>8.95</td>\n",
              "      <td>8.38</td>\n",
              "      <td>167.56</td>\n",
              "      <td>-0.03</td>\n",
              "    </tr>\n",
              "    <tr>\n",
              "      <th>4</th>\n",
              "      <td>Jun 10, 2022</td>\n",
              "      <td>8.85</td>\n",
              "      <td>9.00</td>\n",
              "      <td>9.15</td>\n",
              "      <td>8.62</td>\n",
              "      <td>134.61</td>\n",
              "      <td>-0.01</td>\n",
              "    </tr>\n",
              "  </tbody>\n",
              "</table>\n",
              "</div>\n",
              "      <button class=\"colab-df-convert\" onclick=\"convertToInteractive('df-4c856ee7-25fc-431c-957b-83f3a584d438')\"\n",
              "              title=\"Convert this dataframe to an interactive table.\"\n",
              "              style=\"display:none;\">\n",
              "        \n",
              "  <svg xmlns=\"http://www.w3.org/2000/svg\" height=\"24px\"viewBox=\"0 0 24 24\"\n",
              "       width=\"24px\">\n",
              "    <path d=\"M0 0h24v24H0V0z\" fill=\"none\"/>\n",
              "    <path d=\"M18.56 5.44l.94 2.06.94-2.06 2.06-.94-2.06-.94-.94-2.06-.94 2.06-2.06.94zm-11 1L8.5 8.5l.94-2.06 2.06-.94-2.06-.94L8.5 2.5l-.94 2.06-2.06.94zm10 10l.94 2.06.94-2.06 2.06-.94-2.06-.94-.94-2.06-.94 2.06-2.06.94z\"/><path d=\"M17.41 7.96l-1.37-1.37c-.4-.4-.92-.59-1.43-.59-.52 0-1.04.2-1.43.59L10.3 9.45l-7.72 7.72c-.78.78-.78 2.05 0 2.83L4 21.41c.39.39.9.59 1.41.59.51 0 1.02-.2 1.41-.59l7.78-7.78 2.81-2.81c.8-.78.8-2.07 0-2.86zM5.41 20L4 18.59l7.72-7.72 1.47 1.35L5.41 20z\"/>\n",
              "  </svg>\n",
              "      </button>\n",
              "      \n",
              "  <style>\n",
              "    .colab-df-container {\n",
              "      display:flex;\n",
              "      flex-wrap:wrap;\n",
              "      gap: 12px;\n",
              "    }\n",
              "\n",
              "    .colab-df-convert {\n",
              "      background-color: #E8F0FE;\n",
              "      border: none;\n",
              "      border-radius: 50%;\n",
              "      cursor: pointer;\n",
              "      display: none;\n",
              "      fill: #1967D2;\n",
              "      height: 32px;\n",
              "      padding: 0 0 0 0;\n",
              "      width: 32px;\n",
              "    }\n",
              "\n",
              "    .colab-df-convert:hover {\n",
              "      background-color: #E2EBFA;\n",
              "      box-shadow: 0px 1px 2px rgba(60, 64, 67, 0.3), 0px 1px 3px 1px rgba(60, 64, 67, 0.15);\n",
              "      fill: #174EA6;\n",
              "    }\n",
              "\n",
              "    [theme=dark] .colab-df-convert {\n",
              "      background-color: #3B4455;\n",
              "      fill: #D2E3FC;\n",
              "    }\n",
              "\n",
              "    [theme=dark] .colab-df-convert:hover {\n",
              "      background-color: #434B5C;\n",
              "      box-shadow: 0px 1px 3px 1px rgba(0, 0, 0, 0.15);\n",
              "      filter: drop-shadow(0px 1px 2px rgba(0, 0, 0, 0.3));\n",
              "      fill: #FFFFFF;\n",
              "    }\n",
              "  </style>\n",
              "\n",
              "      <script>\n",
              "        const buttonEl =\n",
              "          document.querySelector('#df-4c856ee7-25fc-431c-957b-83f3a584d438 button.colab-df-convert');\n",
              "        buttonEl.style.display =\n",
              "          google.colab.kernel.accessAllowed ? 'block' : 'none';\n",
              "\n",
              "        async function convertToInteractive(key) {\n",
              "          const element = document.querySelector('#df-4c856ee7-25fc-431c-957b-83f3a584d438');\n",
              "          const dataTable =\n",
              "            await google.colab.kernel.invokeFunction('convertToInteractive',\n",
              "                                                     [key], {});\n",
              "          if (!dataTable) return;\n",
              "\n",
              "          const docLinkHtml = 'Like what you see? Visit the ' +\n",
              "            '<a target=\"_blank\" href=https://colab.research.google.com/notebooks/data_table.ipynb>data table notebook</a>'\n",
              "            + ' to learn more about interactive tables.';\n",
              "          element.innerHTML = '';\n",
              "          dataTable['output_type'] = 'display_data';\n",
              "          await google.colab.output.renderOutput(dataTable, element);\n",
              "          const docLink = document.createElement('div');\n",
              "          docLink.innerHTML = docLinkHtml;\n",
              "          element.appendChild(docLink);\n",
              "        }\n",
              "      </script>\n",
              "    </div>\n",
              "  </div>\n",
              "  "
            ]
          },
          "metadata": {},
          "execution_count": 179
        }
      ]
    },
    {
      "cell_type": "code",
      "source": [
        "# Corellation Plot\n",
        "sns.heatmap(ng.corr(),annot=True)"
      ],
      "metadata": {
        "colab": {
          "base_uri": "https://localhost:8080/",
          "height": 327
        },
        "id": "3Hpt6yUvsdpE",
        "outputId": "4e139922-f3f6-49d7-ad71-39daec59cbd4"
      },
      "execution_count": null,
      "outputs": [
        {
          "output_type": "execute_result",
          "data": {
            "text/plain": [
              "<matplotlib.axes._subplots.AxesSubplot at 0x7f2e93af5350>"
            ]
          },
          "metadata": {},
          "execution_count": 180
        },
        {
          "output_type": "display_data",
          "data": {
            "text/plain": [
              "<Figure size 432x288 with 2 Axes>"
            ],
            "image/png": "[encoded data removed]"
          },
          "metadata": {
            "needs_background": "light"
          }
        }
      ]
    },
    {
      "cell_type": "markdown",
      "source": [
        "## **Fitting The Model**"
      ],
      "metadata": {
        "id": "TC0cbOW79893"
      }
    },
    {
      "cell_type": "code",
      "source": [
        "price=ng['Price']"
      ],
      "metadata": {
        "id": "_LWC99jsJin6"
      },
      "execution_count": null,
      "outputs": []
    },
    {
      "cell_type": "code",
      "source": [
        "def df_to_X_y(data, window_size):\n",
        "  data_np = data.to_numpy()\n",
        "  X = []\n",
        "  y = []\n",
        "  for i in range(len(data_np)-window_size):\n",
        "    row = [[a] for a in data_np[i:i+window_size]]\n",
        "    X.append(row)\n",
        "    label = data_np[i+window_size]\n",
        "    y.append(label)\n",
        "  return np.array(X), np.array(y)"
      ],
      "metadata": {
        "id": "QwmRUgkWCyib"
      },
      "execution_count": null,
      "outputs": []
    },
    {
      "cell_type": "code",
      "source": [
        "x,y=df_to_X_y(price,10)"
      ],
      "metadata": {
        "id": "XSehfz1PC1AO"
      },
      "execution_count": null,
      "outputs": []
    },
    {
      "cell_type": "code",
      "source": [
        "x_train,y_train=x[1800:2724],y[1800:2724]\n",
        "x_val,y_val=x[800:1800],y[800:1800]\n",
        "x_test,y_test=x[0:800],y[0:800]"
      ],
      "metadata": {
        "id": "Mu6rorGzNyvS"
      },
      "execution_count": null,
      "outputs": []
    },
    {
      "cell_type": "markdown",
      "source": [
        "### **LSTM**"
      ],
      "metadata": {
        "id": "2EM1E8LM7FRV"
      }
    },
    {
      "cell_type": "code",
      "source": [
        "# Building the model\n",
        "model1=Sequential()\n",
        "model1.add(InputLayer((10,1)))\n",
        "model1.add(LSTM(64))\n",
        "model1.add(Dense(10,'relu'))\n",
        "model1.add(Dense(1,'linear'))\n",
        "\n",
        "model1.summary()"
      ],
      "metadata": {
        "colab": {
          "base_uri": "https://localhost:8080/"
        },
        "id": "jM003LfrJzw4",
        "outputId": "2c94cca0-577a-4ae0-dc44-2adc6a9f5fb5"
      },
      "execution_count": null,
      "outputs": [
        {
          "output_type": "stream",
          "name": "stdout",
          "text": [
            "Model: \"sequential_16\"\n",
            "_________________________________________________________________\n",
            " Layer (type)                Output Shape              Param #   \n",
            "=================================================================\n",
            " lstm_6 (LSTM)               (None, 64)                16896     \n",
            "                                                                 \n",
            " dense_32 (Dense)            (None, 10)                650       \n",
            "                                                                 \n",
            " dense_33 (Dense)            (None, 1)                 11        \n",
            "                                                                 \n",
            "=================================================================\n",
            "Total params: 17,557\n",
            "Trainable params: 17,557\n",
            "Non-trainable params: 0\n",
            "_________________________________________________________________\n"
          ]
        }
      ]
    },
    {
      "cell_type": "code",
      "source": [
        "# Saving the best model and evaluating the best model of them all\n",
        "checkPoint1=ModelCheckpoint('model1/',save_best_only=True)\n",
        "model1.compile(optimizer=Adam(learning_rate=0.01),loss=MeanSquaredError(),metrics=[RootMeanSquaredError()])"
      ],
      "metadata": {
        "id": "-om_GxHQURwN"
      },
      "execution_count": null,
      "outputs": []
    },
    {
      "cell_type": "code",
      "source": [
        "# Training the model\n",
        "model1.fit(x_train,y_train,validation_data=(x_val,y_val),epochs=20,callbacks=[checkPoint1])"
      ],
      "metadata": {
        "colab": {
          "base_uri": "https://localhost:8080/"
        },
        "id": "lvBQxuLaZbLJ",
        "outputId": "c5b485fb-ab4a-410f-c68e-a4a786176aa9"
      },
      "execution_count": null,
      "outputs": [
        {
          "output_type": "stream",
          "name": "stdout",
          "text": [
            "Epoch 1/20\n",
            "24/29 [=======================>......] - ETA: 0s - loss: 1.3145 - root_mean_squared_error: 1.1465"
          ]
        },
        {
          "output_type": "stream",
          "name": "stderr",
          "text": [
            "WARNING:absl:Found untraced functions such as lstm_cell_11_layer_call_fn, lstm_cell_11_layer_call_and_return_conditional_losses while saving (showing 2 of 2). These functions will not be directly callable after loading.\n"
          ]
        },
        {
          "output_type": "stream",
          "name": "stdout",
          "text": [
            "INFO:tensorflow:Assets written to: model1/assets\n"
          ]
        },
        {
          "output_type": "stream",
          "name": "stderr",
          "text": [
            "INFO:tensorflow:Assets written to: model1/assets\n",
            "WARNING:absl:<keras.layers.recurrent.LSTMCell object at 0x7f2e96cbabd0> has the same name 'LSTMCell' as a built-in Keras object. Consider renaming <class 'keras.layers.recurrent.LSTMCell'> to avoid naming conflicts when loading with `tf.keras.models.load_model`. If renaming is not possible, pass the object in the `custom_objects` parameter of the load function.\n"
          ]
        },
        {
          "output_type": "stream",
          "name": "stdout",
          "text": [
            "\b\b\b\b\b\b\b\b\b\b\b\b\b\b\b\b\b\b\b\b\b\b\b\b\b\b\b\b\b\b\b\b\b\b\b\b\b\b\b\b\b\b\b\b\b\b\b\b\b\b\b\b\b\b\b\b\b\b\b\b\b\b\b\b\b\b\b\b\b\b\b\b\b\b\b\b\b\b\b\b\b\b\b\b\b\b\b\b\b\b\b\b\b\b\b\b\b\r29/29 [==============================] - 8s 205ms/step - loss: 1.1731 - root_mean_squared_error: 1.0831 - val_loss: 0.2726 - val_root_mean_squared_error: 0.5221\n",
            "Epoch 2/20\n",
            "23/29 [======================>.......] - ETA: 0s - loss: 0.3792 - root_mean_squared_error: 0.6158"
          ]
        },
        {
          "output_type": "stream",
          "name": "stderr",
          "text": [
            "WARNING:absl:Found untraced functions such as lstm_cell_11_layer_call_fn, lstm_cell_11_layer_call_and_return_conditional_losses while saving (showing 2 of 2). These functions will not be directly callable after loading.\n"
          ]
        },
        {
          "output_type": "stream",
          "name": "stdout",
          "text": [
            "INFO:tensorflow:Assets written to: model1/assets\n"
          ]
        },
        {
          "output_type": "stream",
          "name": "stderr",
          "text": [
            "INFO:tensorflow:Assets written to: model1/assets\n",
            "WARNING:absl:<keras.layers.recurrent.LSTMCell object at 0x7f2e96cbabd0> has the same name 'LSTMCell' as a built-in Keras object. Consider renaming <class 'keras.layers.recurrent.LSTMCell'> to avoid naming conflicts when loading with `tf.keras.models.load_model`. If renaming is not possible, pass the object in the `custom_objects` parameter of the load function.\n"
          ]
        },
        {
          "output_type": "stream",
          "name": "stdout",
          "text": [
            "\b\b\b\b\b\b\b\b\b\b\b\b\b\b\b\b\b\b\b\b\b\b\b\b\b\b\b\b\b\b\b\b\b\b\b\b\b\b\b\b\b\b\b\b\b\b\b\b\b\b\b\b\b\b\b\b\b\b\b\b\b\b\b\b\b\b\b\b\b\b\b\b\b\b\b\b\b\b\b\b\b\b\b\b\b\b\b\b\b\b\b\b\b\b\b\b\b\r29/29 [==============================] - 4s 160ms/step - loss: 0.3385 - root_mean_squared_error: 0.5818 - val_loss: 0.0541 - val_root_mean_squared_error: 0.2325\n",
            "Epoch 3/20\n",
            "23/29 [======================>.......] - ETA: 0s - loss: 0.0764 - root_mean_squared_error: 0.2764"
          ]
        },
        {
          "output_type": "stream",
          "name": "stderr",
          "text": [
            "WARNING:absl:Found untraced functions such as lstm_cell_11_layer_call_fn, lstm_cell_11_layer_call_and_return_conditional_losses while saving (showing 2 of 2). These functions will not be directly callable after loading.\n"
          ]
        },
        {
          "output_type": "stream",
          "name": "stdout",
          "text": [
            "INFO:tensorflow:Assets written to: model1/assets\n"
          ]
        },
        {
          "output_type": "stream",
          "name": "stderr",
          "text": [
            "INFO:tensorflow:Assets written to: model1/assets\n",
            "WARNING:absl:<keras.layers.recurrent.LSTMCell object at 0x7f2e96cbabd0> has the same name 'LSTMCell' as a built-in Keras object. Consider renaming <class 'keras.layers.recurrent.LSTMCell'> to avoid naming conflicts when loading with `tf.keras.models.load_model`. If renaming is not possible, pass the object in the `custom_objects` parameter of the load function.\n"
          ]
        },
        {
          "output_type": "stream",
          "name": "stdout",
          "text": [
            "\b\b\b\b\b\b\b\b\b\b\b\b\b\b\b\b\b\b\b\b\b\b\b\b\b\b\b\b\b\b\b\b\b\b\b\b\b\b\b\b\b\b\b\b\b\b\b\b\b\b\b\b\b\b\b\b\b\b\b\b\b\b\b\b\b\b\b\b\b\b\b\b\b\b\b\b\b\b\b\b\b\b\b\b\b\b\b\b\b\b\b\b\b\b\b\b\b\r29/29 [==============================] - 4s 158ms/step - loss: 0.0671 - root_mean_squared_error: 0.2590 - val_loss: 0.0388 - val_root_mean_squared_error: 0.1970\n",
            "Epoch 4/20\n",
            "24/29 [=======================>......] - ETA: 0s - loss: 0.0314 - root_mean_squared_error: 0.1773"
          ]
        },
        {
          "output_type": "stream",
          "name": "stderr",
          "text": [
            "WARNING:absl:Found untraced functions such as lstm_cell_11_layer_call_fn, lstm_cell_11_layer_call_and_return_conditional_losses while saving (showing 2 of 2). These functions will not be directly callable after loading.\n"
          ]
        },
        {
          "output_type": "stream",
          "name": "stdout",
          "text": [
            "INFO:tensorflow:Assets written to: model1/assets\n"
          ]
        },
        {
          "output_type": "stream",
          "name": "stderr",
          "text": [
            "INFO:tensorflow:Assets written to: model1/assets\n",
            "WARNING:absl:<keras.layers.recurrent.LSTMCell object at 0x7f2e96cbabd0> has the same name 'LSTMCell' as a built-in Keras object. Consider renaming <class 'keras.layers.recurrent.LSTMCell'> to avoid naming conflicts when loading with `tf.keras.models.load_model`. If renaming is not possible, pass the object in the `custom_objects` parameter of the load function.\n"
          ]
        },
        {
          "output_type": "stream",
          "name": "stdout",
          "text": [
            "\b\b\b\b\b\b\b\b\b\b\b\b\b\b\b\b\b\b\b\b\b\b\b\b\b\b\b\b\b\b\b\b\b\b\b\b\b\b\b\b\b\b\b\b\b\b\b\b\b\b\b\b\b\b\b\b\b\b\b\b\b\b\b\b\b\b\b\b\b\b\b\b\b\b\b\b\b\b\b\b\b\b\b\b\b\b\b\b\b\b\b\b\b\b\b\b\b\r29/29 [==============================] - 4s 158ms/step - loss: 0.0297 - root_mean_squared_error: 0.1722 - val_loss: 0.0187 - val_root_mean_squared_error: 0.1369\n",
            "Epoch 5/20\n",
            "23/29 [======================>.......] - ETA: 0s - loss: 0.0226 - root_mean_squared_error: 0.1503"
          ]
        },
        {
          "output_type": "stream",
          "name": "stderr",
          "text": [
            "WARNING:absl:Found untraced functions such as lstm_cell_11_layer_call_fn, lstm_cell_11_layer_call_and_return_conditional_losses while saving (showing 2 of 2). These functions will not be directly callable after loading.\n"
          ]
        },
        {
          "output_type": "stream",
          "name": "stdout",
          "text": [
            "INFO:tensorflow:Assets written to: model1/assets\n"
          ]
        },
        {
          "output_type": "stream",
          "name": "stderr",
          "text": [
            "INFO:tensorflow:Assets written to: model1/assets\n",
            "WARNING:absl:<keras.layers.recurrent.LSTMCell object at 0x7f2e96cbabd0> has the same name 'LSTMCell' as a built-in Keras object. Consider renaming <class 'keras.layers.recurrent.LSTMCell'> to avoid naming conflicts when loading with `tf.keras.models.load_model`. If renaming is not possible, pass the object in the `custom_objects` parameter of the load function.\n"
          ]
        },
        {
          "output_type": "stream",
          "name": "stdout",
          "text": [
            "\b\b\b\b\b\b\b\b\b\b\b\b\b\b\b\b\b\b\b\b\b\b\b\b\b\b\b\b\b\b\b\b\b\b\b\b\b\b\b\b\b\b\b\b\b\b\b\b\b\b\b\b\b\b\b\b\b\b\b\b\b\b\b\b\b\b\b\b\b\b\b\b\b\b\b\b\b\b\b\b\b\b\b\b\b\b\b\b\b\b\b\b\b\b\b\b\b\r29/29 [==============================] - 5s 194ms/step - loss: 0.0231 - root_mean_squared_error: 0.1518 - val_loss: 0.0144 - val_root_mean_squared_error: 0.1199\n",
            "Epoch 6/20\n",
            "29/29 [==============================] - 0s 10ms/step - loss: 0.0323 - root_mean_squared_error: 0.1796 - val_loss: 0.0152 - val_root_mean_squared_error: 0.1234\n",
            "Epoch 7/20\n",
            "29/29 [==============================] - 0s 10ms/step - loss: 0.0224 - root_mean_squared_error: 0.1497 - val_loss: 0.0170 - val_root_mean_squared_error: 0.1302\n",
            "Epoch 8/20\n",
            "24/29 [=======================>......] - ETA: 0s - loss: 0.0174 - root_mean_squared_error: 0.1318"
          ]
        },
        {
          "output_type": "stream",
          "name": "stderr",
          "text": [
            "WARNING:absl:Found untraced functions such as lstm_cell_11_layer_call_fn, lstm_cell_11_layer_call_and_return_conditional_losses while saving (showing 2 of 2). These functions will not be directly callable after loading.\n"
          ]
        },
        {
          "output_type": "stream",
          "name": "stdout",
          "text": [
            "INFO:tensorflow:Assets written to: model1/assets\n"
          ]
        },
        {
          "output_type": "stream",
          "name": "stderr",
          "text": [
            "INFO:tensorflow:Assets written to: model1/assets\n",
            "WARNING:absl:<keras.layers.recurrent.LSTMCell object at 0x7f2e96cbabd0> has the same name 'LSTMCell' as a built-in Keras object. Consider renaming <class 'keras.layers.recurrent.LSTMCell'> to avoid naming conflicts when loading with `tf.keras.models.load_model`. If renaming is not possible, pass the object in the `custom_objects` parameter of the load function.\n"
          ]
        },
        {
          "output_type": "stream",
          "name": "stdout",
          "text": [
            "\b\b\b\b\b\b\b\b\b\b\b\b\b\b\b\b\b\b\b\b\b\b\b\b\b\b\b\b\b\b\b\b\b\b\b\b\b\b\b\b\b\b\b\b\b\b\b\b\b\b\b\b\b\b\b\b\b\b\b\b\b\b\b\b\b\b\b\b\b\b\b\b\b\b\b\b\b\b\b\b\b\b\b\b\b\b\b\b\b\b\b\b\b\b\b\b\b\r29/29 [==============================] - 4s 158ms/step - loss: 0.0176 - root_mean_squared_error: 0.1325 - val_loss: 0.0140 - val_root_mean_squared_error: 0.1183\n",
            "Epoch 9/20\n",
            "29/29 [==============================] - 0s 10ms/step - loss: 0.0181 - root_mean_squared_error: 0.1345 - val_loss: 0.0411 - val_root_mean_squared_error: 0.2028\n",
            "Epoch 10/20\n",
            "24/29 [=======================>......] - ETA: 0s - loss: 0.0176 - root_mean_squared_error: 0.1325"
          ]
        },
        {
          "output_type": "stream",
          "name": "stderr",
          "text": [
            "WARNING:absl:Found untraced functions such as lstm_cell_11_layer_call_fn, lstm_cell_11_layer_call_and_return_conditional_losses while saving (showing 2 of 2). These functions will not be directly callable after loading.\n"
          ]
        },
        {
          "output_type": "stream",
          "name": "stdout",
          "text": [
            "INFO:tensorflow:Assets written to: model1/assets\n"
          ]
        },
        {
          "output_type": "stream",
          "name": "stderr",
          "text": [
            "INFO:tensorflow:Assets written to: model1/assets\n",
            "WARNING:absl:<keras.layers.recurrent.LSTMCell object at 0x7f2e96cbabd0> has the same name 'LSTMCell' as a built-in Keras object. Consider renaming <class 'keras.layers.recurrent.LSTMCell'> to avoid naming conflicts when loading with `tf.keras.models.load_model`. If renaming is not possible, pass the object in the `custom_objects` parameter of the load function.\n"
          ]
        },
        {
          "output_type": "stream",
          "name": "stdout",
          "text": [
            "\b\b\b\b\b\b\b\b\b\b\b\b\b\b\b\b\b\b\b\b\b\b\b\b\b\b\b\b\b\b\b\b\b\b\b\b\b\b\b\b\b\b\b\b\b\b\b\b\b\b\b\b\b\b\b\b\b\b\b\b\b\b\b\b\b\b\b\b\b\b\b\b\b\b\b\b\b\b\b\b\b\b\b\b\b\b\b\b\b\b\b\b\b\b\b\b\b\r29/29 [==============================] - 4s 155ms/step - loss: 0.0170 - root_mean_squared_error: 0.1305 - val_loss: 0.0103 - val_root_mean_squared_error: 0.1016\n",
            "Epoch 11/20\n",
            "29/29 [==============================] - 0s 10ms/step - loss: 0.0147 - root_mean_squared_error: 0.1214 - val_loss: 0.0129 - val_root_mean_squared_error: 0.1135\n",
            "Epoch 12/20\n",
            "23/29 [======================>.......] - ETA: 0s - loss: 0.0145 - root_mean_squared_error: 0.1202"
          ]
        },
        {
          "output_type": "stream",
          "name": "stderr",
          "text": [
            "WARNING:absl:Found untraced functions such as lstm_cell_11_layer_call_fn, lstm_cell_11_layer_call_and_return_conditional_losses while saving (showing 2 of 2). These functions will not be directly callable after loading.\n"
          ]
        },
        {
          "output_type": "stream",
          "name": "stdout",
          "text": [
            "INFO:tensorflow:Assets written to: model1/assets\n"
          ]
        },
        {
          "output_type": "stream",
          "name": "stderr",
          "text": [
            "INFO:tensorflow:Assets written to: model1/assets\n",
            "WARNING:absl:<keras.layers.recurrent.LSTMCell object at 0x7f2e96cbabd0> has the same name 'LSTMCell' as a built-in Keras object. Consider renaming <class 'keras.layers.recurrent.LSTMCell'> to avoid naming conflicts when loading with `tf.keras.models.load_model`. If renaming is not possible, pass the object in the `custom_objects` parameter of the load function.\n"
          ]
        },
        {
          "output_type": "stream",
          "name": "stdout",
          "text": [
            "\b\b\b\b\b\b\b\b\b\b\b\b\b\b\b\b\b\b\b\b\b\b\b\b\b\b\b\b\b\b\b\b\b\b\b\b\b\b\b\b\b\b\b\b\b\b\b\b\b\b\b\b\b\b\b\b\b\b\b\b\b\b\b\b\b\b\b\b\b\b\b\b\b\b\b\b\b\b\b\b\b\b\b\b\b\b\b\b\b\b\b\b\b\b\b\b\b\r29/29 [==============================] - 5s 188ms/step - loss: 0.0152 - root_mean_squared_error: 0.1231 - val_loss: 0.0101 - val_root_mean_squared_error: 0.1007\n",
            "Epoch 13/20\n",
            "29/29 [==============================] - 0s 10ms/step - loss: 0.0150 - root_mean_squared_error: 0.1223 - val_loss: 0.0136 - val_root_mean_squared_error: 0.1167\n",
            "Epoch 14/20\n",
            "25/29 [========================>.....] - ETA: 0s - loss: 0.0138 - root_mean_squared_error: 0.1174"
          ]
        },
        {
          "output_type": "stream",
          "name": "stderr",
          "text": [
            "WARNING:absl:Found untraced functions such as lstm_cell_11_layer_call_fn, lstm_cell_11_layer_call_and_return_conditional_losses while saving (showing 2 of 2). These functions will not be directly callable after loading.\n"
          ]
        },
        {
          "output_type": "stream",
          "name": "stdout",
          "text": [
            "INFO:tensorflow:Assets written to: model1/assets\n"
          ]
        },
        {
          "output_type": "stream",
          "name": "stderr",
          "text": [
            "INFO:tensorflow:Assets written to: model1/assets\n",
            "WARNING:absl:<keras.layers.recurrent.LSTMCell object at 0x7f2e96cbabd0> has the same name 'LSTMCell' as a built-in Keras object. Consider renaming <class 'keras.layers.recurrent.LSTMCell'> to avoid naming conflicts when loading with `tf.keras.models.load_model`. If renaming is not possible, pass the object in the `custom_objects` parameter of the load function.\n"
          ]
        },
        {
          "output_type": "stream",
          "name": "stdout",
          "text": [
            "\b\b\b\b\b\b\b\b\b\b\b\b\b\b\b\b\b\b\b\b\b\b\b\b\b\b\b\b\b\b\b\b\b\b\b\b\b\b\b\b\b\b\b\b\b\b\b\b\b\b\b\b\b\b\b\b\b\b\b\b\b\b\b\b\b\b\b\b\b\b\b\b\b\b\b\b\b\b\b\b\b\b\b\b\b\b\b\b\b\b\b\b\b\b\b\b\b\r29/29 [==============================] - 4s 158ms/step - loss: 0.0132 - root_mean_squared_error: 0.1151 - val_loss: 0.0094 - val_root_mean_squared_error: 0.0970\n",
            "Epoch 15/20\n",
            "23/29 [======================>.......] - ETA: 0s - loss: 0.0141 - root_mean_squared_error: 0.1187"
          ]
        },
        {
          "output_type": "stream",
          "name": "stderr",
          "text": [
            "WARNING:absl:Found untraced functions such as lstm_cell_11_layer_call_fn, lstm_cell_11_layer_call_and_return_conditional_losses while saving (showing 2 of 2). These functions will not be directly callable after loading.\n"
          ]
        },
        {
          "output_type": "stream",
          "name": "stdout",
          "text": [
            "INFO:tensorflow:Assets written to: model1/assets\n"
          ]
        },
        {
          "output_type": "stream",
          "name": "stderr",
          "text": [
            "INFO:tensorflow:Assets written to: model1/assets\n",
            "WARNING:absl:<keras.layers.recurrent.LSTMCell object at 0x7f2e96cbabd0> has the same name 'LSTMCell' as a built-in Keras object. Consider renaming <class 'keras.layers.recurrent.LSTMCell'> to avoid naming conflicts when loading with `tf.keras.models.load_model`. If renaming is not possible, pass the object in the `custom_objects` parameter of the load function.\n"
          ]
        },
        {
          "output_type": "stream",
          "name": "stdout",
          "text": [
            "\b\b\b\b\b\b\b\b\b\b\b\b\b\b\b\b\b\b\b\b\b\b\b\b\b\b\b\b\b\b\b\b\b\b\b\b\b\b\b\b\b\b\b\b\b\b\b\b\b\b\b\b\b\b\b\b\b\b\b\b\b\b\b\b\b\b\b\b\b\b\b\b\b\b\b\b\b\b\b\b\b\b\b\b\b\b\b\b\b\b\b\b\b\b\b\b\b\r29/29 [==============================] - 4s 158ms/step - loss: 0.0135 - root_mean_squared_error: 0.1161 - val_loss: 0.0091 - val_root_mean_squared_error: 0.0954\n",
            "Epoch 16/20\n",
            "29/29 [==============================] - 0s 10ms/step - loss: 0.0160 - root_mean_squared_error: 0.1266 - val_loss: 0.0098 - val_root_mean_squared_error: 0.0988\n",
            "Epoch 17/20\n",
            "29/29 [==============================] - 0s 10ms/step - loss: 0.0148 - root_mean_squared_error: 0.1215 - val_loss: 0.0092 - val_root_mean_squared_error: 0.0960\n",
            "Epoch 18/20\n",
            "29/29 [==============================] - 0s 10ms/step - loss: 0.0133 - root_mean_squared_error: 0.1152 - val_loss: 0.0097 - val_root_mean_squared_error: 0.0985\n",
            "Epoch 19/20\n",
            "25/29 [========================>.....] - ETA: 0s - loss: 0.0129 - root_mean_squared_error: 0.1137"
          ]
        },
        {
          "output_type": "stream",
          "name": "stderr",
          "text": [
            "WARNING:absl:Found untraced functions such as lstm_cell_11_layer_call_fn, lstm_cell_11_layer_call_and_return_conditional_losses while saving (showing 2 of 2). These functions will not be directly callable after loading.\n"
          ]
        },
        {
          "output_type": "stream",
          "name": "stdout",
          "text": [
            "INFO:tensorflow:Assets written to: model1/assets\n"
          ]
        },
        {
          "output_type": "stream",
          "name": "stderr",
          "text": [
            "INFO:tensorflow:Assets written to: model1/assets\n",
            "WARNING:absl:<keras.layers.recurrent.LSTMCell object at 0x7f2e96cbabd0> has the same name 'LSTMCell' as a built-in Keras object. Consider renaming <class 'keras.layers.recurrent.LSTMCell'> to avoid naming conflicts when loading with `tf.keras.models.load_model`. If renaming is not possible, pass the object in the `custom_objects` parameter of the load function.\n"
          ]
        },
        {
          "output_type": "stream",
          "name": "stdout",
          "text": [
            "\b\b\b\b\b\b\b\b\b\b\b\b\b\b\b\b\b\b\b\b\b\b\b\b\b\b\b\b\b\b\b\b\b\b\b\b\b\b\b\b\b\b\b\b\b\b\b\b\b\b\b\b\b\b\b\b\b\b\b\b\b\b\b\b\b\b\b\b\b\b\b\b\b\b\b\b\b\b\b\b\b\b\b\b\b\b\b\b\b\b\b\b\b\b\b\b\b\r29/29 [==============================] - 4s 155ms/step - loss: 0.0124 - root_mean_squared_error: 0.1114 - val_loss: 0.0089 - val_root_mean_squared_error: 0.0945\n",
            "Epoch 20/20\n",
            "29/29 [==============================] - 0s 10ms/step - loss: 0.0152 - root_mean_squared_error: 0.1235 - val_loss: 0.0108 - val_root_mean_squared_error: 0.1040\n"
          ]
        },
        {
          "output_type": "execute_result",
          "data": {
            "text/plain": [
              "<keras.callbacks.History at 0x7f2ea1f4ef50>"
            ]
          },
          "metadata": {},
          "execution_count": 188
        }
      ]
    },
    {
      "cell_type": "code",
      "source": [
        "model1=load_model('model1/')"
      ],
      "metadata": {
        "id": "Bqoj0npIb8qW"
      },
      "execution_count": null,
      "outputs": []
    },
    {
      "cell_type": "code",
      "source": [
        "predictions1=model1.predict(x_test).flatten()\n",
        "pred_df1=pd.DataFrame(data={'Predictions':predictions1,'Actual':y_test})\n",
        "pred_df1.head()"
      ],
      "metadata": {
        "colab": {
          "base_uri": "https://localhost:8080/",
          "height": 206
        },
        "id": "pcVWpW17cDw6",
        "outputId": "efb1c292-e0eb-49b9-90c1-6217597ea2dc"
      },
      "execution_count": null,
      "outputs": [
        {
          "output_type": "execute_result",
          "data": {
            "text/plain": [
              "   Predictions  Actual\n",
              "0     7.131179    8.49\n",
              "1     7.094980    8.70\n",
              "2     7.155614    8.15\n",
              "3     6.994233    8.69\n",
              "4     7.135355    8.82"
            ],
            "text/html": [
              "\n",
              "  <div id=\"df-30395997-a06c-40c4-80a5-877f2dd5d27c\">\n",
              "    <div class=\"colab-df-container\">\n",
              "      <div>\n",
              "<style scoped>\n",
              "    .dataframe tbody tr th:only-of-type {\n",
              "        vertical-align: middle;\n",
              "    }\n",
              "\n",
              "    .dataframe tbody tr th {\n",
              "        vertical-align: top;\n",
              "    }\n",
              "\n",
              "    .dataframe thead th {\n",
              "        text-align: right;\n",
              "    }\n",
              "</style>\n",
              "<table border=\"1\" class=\"dataframe\">\n",
              "  <thead>\n",
              "    <tr style=\"text-align: right;\">\n",
              "      <th></th>\n",
              "      <th>Predictions</th>\n",
              "      <th>Actual</th>\n",
              "    </tr>\n",
              "  </thead>\n",
              "  <tbody>\n",
              "    <tr>\n",
              "      <th>0</th>\n",
              "      <td>7.131179</td>\n",
              "      <td>8.49</td>\n",
              "    </tr>\n",
              "    <tr>\n",
              "      <th>1</th>\n",
              "      <td>7.094980</td>\n",
              "      <td>8.70</td>\n",
              "    </tr>\n",
              "    <tr>\n",
              "      <th>2</th>\n",
              "      <td>7.155614</td>\n",
              "      <td>8.15</td>\n",
              "    </tr>\n",
              "    <tr>\n",
              "      <th>3</th>\n",
              "      <td>6.994233</td>\n",
              "      <td>8.69</td>\n",
              "    </tr>\n",
              "    <tr>\n",
              "      <th>4</th>\n",
              "      <td>7.135355</td>\n",
              "      <td>8.82</td>\n",
              "    </tr>\n",
              "  </tbody>\n",
              "</table>\n",
              "</div>\n",
              "      <button class=\"colab-df-convert\" onclick=\"convertToInteractive('df-30395997-a06c-40c4-80a5-877f2dd5d27c')\"\n",
              "              title=\"Convert this dataframe to an interactive table.\"\n",
              "              style=\"display:none;\">\n",
              "        \n",
              "  <svg xmlns=\"http://www.w3.org/2000/svg\" height=\"24px\"viewBox=\"0 0 24 24\"\n",
              "       width=\"24px\">\n",
              "    <path d=\"M0 0h24v24H0V0z\" fill=\"none\"/>\n",
              "    <path d=\"M18.56 5.44l.94 2.06.94-2.06 2.06-.94-2.06-.94-.94-2.06-.94 2.06-2.06.94zm-11 1L8.5 8.5l.94-2.06 2.06-.94-2.06-.94L8.5 2.5l-.94 2.06-2.06.94zm10 10l.94 2.06.94-2.06 2.06-.94-2.06-.94-.94-2.06-.94 2.06-2.06.94z\"/><path d=\"M17.41 7.96l-1.37-1.37c-.4-.4-.92-.59-1.43-.59-.52 0-1.04.2-1.43.59L10.3 9.45l-7.72 7.72c-.78.78-.78 2.05 0 2.83L4 21.41c.39.39.9.59 1.41.59.51 0 1.02-.2 1.41-.59l7.78-7.78 2.81-2.81c.8-.78.8-2.07 0-2.86zM5.41 20L4 18.59l7.72-7.72 1.47 1.35L5.41 20z\"/>\n",
              "  </svg>\n",
              "      </button>\n",
              "      \n",
              "  <style>\n",
              "    .colab-df-container {\n",
              "      display:flex;\n",
              "      flex-wrap:wrap;\n",
              "      gap: 12px;\n",
              "    }\n",
              "\n",
              "    .colab-df-convert {\n",
              "      background-color: #E8F0FE;\n",
              "      border: none;\n",
              "      border-radius: 50%;\n",
              "      cursor: pointer;\n",
              "      display: none;\n",
              "      fill: #1967D2;\n",
              "      height: 32px;\n",
              "      padding: 0 0 0 0;\n",
              "      width: 32px;\n",
              "    }\n",
              "\n",
              "    .colab-df-convert:hover {\n",
              "      background-color: #E2EBFA;\n",
              "      box-shadow: 0px 1px 2px rgba(60, 64, 67, 0.3), 0px 1px 3px 1px rgba(60, 64, 67, 0.15);\n",
              "      fill: #174EA6;\n",
              "    }\n",
              "\n",
              "    [theme=dark] .colab-df-convert {\n",
              "      background-color: #3B4455;\n",
              "      fill: #D2E3FC;\n",
              "    }\n",
              "\n",
              "    [theme=dark] .colab-df-convert:hover {\n",
              "      background-color: #434B5C;\n",
              "      box-shadow: 0px 1px 3px 1px rgba(0, 0, 0, 0.15);\n",
              "      filter: drop-shadow(0px 1px 2px rgba(0, 0, 0, 0.3));\n",
              "      fill: #FFFFFF;\n",
              "    }\n",
              "  </style>\n",
              "\n",
              "      <script>\n",
              "        const buttonEl =\n",
              "          document.querySelector('#df-30395997-a06c-40c4-80a5-877f2dd5d27c button.colab-df-convert');\n",
              "        buttonEl.style.display =\n",
              "          google.colab.kernel.accessAllowed ? 'block' : 'none';\n",
              "\n",
              "        async function convertToInteractive(key) {\n",
              "          const element = document.querySelector('#df-30395997-a06c-40c4-80a5-877f2dd5d27c');\n",
              "          const dataTable =\n",
              "            await google.colab.kernel.invokeFunction('convertToInteractive',\n",
              "                                                     [key], {});\n",
              "          if (!dataTable) return;\n",
              "\n",
              "          const docLinkHtml = 'Like what you see? Visit the ' +\n",
              "            '<a target=\"_blank\" href=https://colab.research.google.com/notebooks/data_table.ipynb>data table notebook</a>'\n",
              "            + ' to learn more about interactive tables.';\n",
              "          element.innerHTML = '';\n",
              "          dataTable['output_type'] = 'display_data';\n",
              "          await google.colab.output.renderOutput(dataTable, element);\n",
              "          const docLink = document.createElement('div');\n",
              "          docLink.innerHTML = docLinkHtml;\n",
              "          element.appendChild(docLink);\n",
              "        }\n",
              "      </script>\n",
              "    </div>\n",
              "  </div>\n",
              "  "
            ]
          },
          "metadata": {},
          "execution_count": 190
        }
      ]
    },
    {
      "cell_type": "code",
      "source": [
        "model1_mse=mse(y_test,predictions1)\n",
        "print('LSTM MSE:',str(model1_mse))"
      ],
      "metadata": {
        "colab": {
          "base_uri": "https://localhost:8080/"
        },
        "id": "ciSRSqRfgg4f",
        "outputId": "5329353a-cfb6-41e3-c028-15897012bbd0"
      },
      "execution_count": null,
      "outputs": [
        {
          "output_type": "stream",
          "name": "stdout",
          "text": [
            "LSTM MSE: 0.07811538094692025\n"
          ]
        }
      ]
    },
    {
      "cell_type": "code",
      "source": [
        "plt.plot(pred_df1['Predictions'],label='Predictions')\n",
        "plt.plot(pred_df1['Actual'],label='Actual')\n",
        "plt.xlabel('Time')\n",
        "plt.ylabel('Price')\n",
        "plt.legend(loc='upper right')\n",
        "plt.title('LSTM Results')"
      ],
      "metadata": {
        "colab": {
          "base_uri": "https://localhost:8080/",
          "height": 312
        },
        "id": "1Rp22OqcC0sX",
        "outputId": "46043a94-bdce-4ba8-ec05-6bcf1445ac0f"
      },
      "execution_count": null,
      "outputs": [
        {
          "output_type": "execute_result",
          "data": {
            "text/plain": [
              "Text(0.5, 1.0, 'LSTM Results')"
            ]
          },
          "metadata": {},
          "execution_count": 192
        },
        {
          "output_type": "display_data",
          "data": {
            "text/plain": [
              "<Figure size 432x288 with 1 Axes>"
            ],
            "image/png": "[encoded data removed]"
          },
          "metadata": {
            "needs_background": "light"
          }
        }
      ]
    },
    {
      "cell_type": "markdown",
      "source": [
        "### **GRU**"
      ],
      "metadata": {
        "id": "j9l5XoW3-SPT"
      }
    },
    {
      "cell_type": "code",
      "source": [
        "model2=Sequential()\n",
        "model2.add(InputLayer((10,1)))\n",
        "model2.add(GRU(64))\n",
        "model2.add(Dense(10,'relu'))\n",
        "model2.add(Dense(1,'linear'))\n",
        "\n",
        "model2.summary()"
      ],
      "metadata": {
        "colab": {
          "base_uri": "https://localhost:8080/"
        },
        "id": "NekHxr61jshT",
        "outputId": "452d014d-64d4-4b89-9769-37f63f946bb7"
      },
      "execution_count": null,
      "outputs": [
        {
          "output_type": "stream",
          "name": "stdout",
          "text": [
            "Model: \"sequential_17\"\n",
            "_________________________________________________________________\n",
            " Layer (type)                Output Shape              Param #   \n",
            "=================================================================\n",
            " gru_5 (GRU)                 (None, 64)                12864     \n",
            "                                                                 \n",
            " dense_34 (Dense)            (None, 10)                650       \n",
            "                                                                 \n",
            " dense_35 (Dense)            (None, 1)                 11        \n",
            "                                                                 \n",
            "=================================================================\n",
            "Total params: 13,525\n",
            "Trainable params: 13,525\n",
            "Non-trainable params: 0\n",
            "_________________________________________________________________\n"
          ]
        }
      ]
    },
    {
      "cell_type": "code",
      "source": [
        "checkPoint2=ModelCheckpoint('model2/',save_best_only=True)\n",
        "model2.compile(optimizer=Adam(learning_rate=0.01),loss=MeanSquaredError(),metrics=[RootMeanSquaredError()])\n",
        "model2.fit(x_train,y_train,validation_data=(x_val,y_val),epochs=20,callbacks=[checkPoint2])"
      ],
      "metadata": {
        "colab": {
          "base_uri": "https://localhost:8080/"
        },
        "id": "M-F2q1f_kZ6B",
        "outputId": "4eed012a-448a-4279-b813-9e3b460fffd1"
      },
      "execution_count": null,
      "outputs": [
        {
          "output_type": "stream",
          "name": "stdout",
          "text": [
            "Epoch 1/20\n",
            "24/29 [=======================>......] - ETA: 0s - loss: 1.7250 - root_mean_squared_error: 1.3134"
          ]
        },
        {
          "output_type": "stream",
          "name": "stderr",
          "text": [
            "WARNING:absl:Found untraced functions such as gru_cell_10_layer_call_fn, gru_cell_10_layer_call_and_return_conditional_losses while saving (showing 2 of 2). These functions will not be directly callable after loading.\n"
          ]
        },
        {
          "output_type": "stream",
          "name": "stdout",
          "text": [
            "INFO:tensorflow:Assets written to: model2/assets\n"
          ]
        },
        {
          "output_type": "stream",
          "name": "stderr",
          "text": [
            "INFO:tensorflow:Assets written to: model2/assets\n",
            "WARNING:absl:<keras.layers.recurrent.GRUCell object at 0x7f2e928a3650> has the same name 'GRUCell' as a built-in Keras object. Consider renaming <class 'keras.layers.recurrent.GRUCell'> to avoid naming conflicts when loading with `tf.keras.models.load_model`. If renaming is not possible, pass the object in the `custom_objects` parameter of the load function.\n"
          ]
        },
        {
          "output_type": "stream",
          "name": "stdout",
          "text": [
            "\b\b\b\b\b\b\b\b\b\b\b\b\b\b\b\b\b\b\b\b\b\b\b\b\b\b\b\b\b\b\b\b\b\b\b\b\b\b\b\b\b\b\b\b\b\b\b\b\b\b\b\b\b\b\b\b\b\b\b\b\b\b\b\b\b\b\b\b\b\b\b\b\b\b\b\b\b\b\b\b\b\b\b\b\b\b\b\b\b\b\b\b\b\b\b\b\b\r29/29 [==============================] - 6s 155ms/step - loss: 1.4897 - root_mean_squared_error: 1.2205 - val_loss: 0.4502 - val_root_mean_squared_error: 0.6710\n",
            "Epoch 2/20\n",
            "24/29 [=======================>......] - ETA: 0s - loss: 0.1401 - root_mean_squared_error: 0.3743"
          ]
        },
        {
          "output_type": "stream",
          "name": "stderr",
          "text": [
            "WARNING:absl:Found untraced functions such as gru_cell_10_layer_call_fn, gru_cell_10_layer_call_and_return_conditional_losses while saving (showing 2 of 2). These functions will not be directly callable after loading.\n"
          ]
        },
        {
          "output_type": "stream",
          "name": "stdout",
          "text": [
            "INFO:tensorflow:Assets written to: model2/assets\n"
          ]
        },
        {
          "output_type": "stream",
          "name": "stderr",
          "text": [
            "INFO:tensorflow:Assets written to: model2/assets\n",
            "WARNING:absl:<keras.layers.recurrent.GRUCell object at 0x7f2e928a3650> has the same name 'GRUCell' as a built-in Keras object. Consider renaming <class 'keras.layers.recurrent.GRUCell'> to avoid naming conflicts when loading with `tf.keras.models.load_model`. If renaming is not possible, pass the object in the `custom_objects` parameter of the load function.\n"
          ]
        },
        {
          "output_type": "stream",
          "name": "stdout",
          "text": [
            "\b\b\b\b\b\b\b\b\b\b\b\b\b\b\b\b\b\b\b\b\b\b\b\b\b\b\b\b\b\b\b\b\b\b\b\b\b\b\b\b\b\b\b\b\b\b\b\b\b\b\b\b\b\b\b\b\b\b\b\b\b\b\b\b\b\b\b\b\b\b\b\b\b\b\b\b\b\b\b\b\b\b\b\b\b\b\b\b\b\b\b\b\b\b\b\b\b\r29/29 [==============================] - 4s 138ms/step - loss: 0.1204 - root_mean_squared_error: 0.3470 - val_loss: 0.0127 - val_root_mean_squared_error: 0.1126\n",
            "Epoch 3/20\n",
            "25/29 [========================>.....] - ETA: 0s - loss: 0.0217 - root_mean_squared_error: 0.1472"
          ]
        },
        {
          "output_type": "stream",
          "name": "stderr",
          "text": [
            "WARNING:absl:Found untraced functions such as gru_cell_10_layer_call_fn, gru_cell_10_layer_call_and_return_conditional_losses while saving (showing 2 of 2). These functions will not be directly callable after loading.\n"
          ]
        },
        {
          "output_type": "stream",
          "name": "stdout",
          "text": [
            "INFO:tensorflow:Assets written to: model2/assets\n"
          ]
        },
        {
          "output_type": "stream",
          "name": "stderr",
          "text": [
            "INFO:tensorflow:Assets written to: model2/assets\n",
            "WARNING:absl:<keras.layers.recurrent.GRUCell object at 0x7f2e928a3650> has the same name 'GRUCell' as a built-in Keras object. Consider renaming <class 'keras.layers.recurrent.GRUCell'> to avoid naming conflicts when loading with `tf.keras.models.load_model`. If renaming is not possible, pass the object in the `custom_objects` parameter of the load function.\n"
          ]
        },
        {
          "output_type": "stream",
          "name": "stdout",
          "text": [
            "\b\b\b\b\b\b\b\b\b\b\b\b\b\b\b\b\b\b\b\b\b\b\b\b\b\b\b\b\b\b\b\b\b\b\b\b\b\b\b\b\b\b\b\b\b\b\b\b\b\b\b\b\b\b\b\b\b\b\b\b\b\b\b\b\b\b\b\b\b\b\b\b\b\b\b\b\b\b\b\b\b\b\b\b\b\b\b\b\b\b\b\b\b\b\b\b\b\r29/29 [==============================] - 5s 172ms/step - loss: 0.0208 - root_mean_squared_error: 0.1444 - val_loss: 0.0096 - val_root_mean_squared_error: 0.0980\n",
            "Epoch 4/20\n",
            "29/29 [==============================] - 0s 10ms/step - loss: 0.0149 - root_mean_squared_error: 0.1221 - val_loss: 0.0102 - val_root_mean_squared_error: 0.1012\n",
            "Epoch 5/20\n",
            "24/29 [=======================>......] - ETA: 0s - loss: 0.0123 - root_mean_squared_error: 0.1110"
          ]
        },
        {
          "output_type": "stream",
          "name": "stderr",
          "text": [
            "WARNING:absl:Found untraced functions such as gru_cell_10_layer_call_fn, gru_cell_10_layer_call_and_return_conditional_losses while saving (showing 2 of 2). These functions will not be directly callable after loading.\n"
          ]
        },
        {
          "output_type": "stream",
          "name": "stdout",
          "text": [
            "INFO:tensorflow:Assets written to: model2/assets\n"
          ]
        },
        {
          "output_type": "stream",
          "name": "stderr",
          "text": [
            "INFO:tensorflow:Assets written to: model2/assets\n",
            "WARNING:absl:<keras.layers.recurrent.GRUCell object at 0x7f2e928a3650> has the same name 'GRUCell' as a built-in Keras object. Consider renaming <class 'keras.layers.recurrent.GRUCell'> to avoid naming conflicts when loading with `tf.keras.models.load_model`. If renaming is not possible, pass the object in the `custom_objects` parameter of the load function.\n"
          ]
        },
        {
          "output_type": "stream",
          "name": "stdout",
          "text": [
            "\b\b\b\b\b\b\b\b\b\b\b\b\b\b\b\b\b\b\b\b\b\b\b\b\b\b\b\b\b\b\b\b\b\b\b\b\b\b\b\b\b\b\b\b\b\b\b\b\b\b\b\b\b\b\b\b\b\b\b\b\b\b\b\b\b\b\b\b\b\b\b\b\b\b\b\b\b\b\b\b\b\b\b\b\b\b\b\b\b\b\b\b\b\b\b\b\b\r29/29 [==============================] - 4s 140ms/step - loss: 0.0133 - root_mean_squared_error: 0.1153 - val_loss: 0.0088 - val_root_mean_squared_error: 0.0937\n",
            "Epoch 6/20\n",
            "23/29 [======================>.......] - ETA: 0s - loss: 0.0132 - root_mean_squared_error: 0.1150"
          ]
        },
        {
          "output_type": "stream",
          "name": "stderr",
          "text": [
            "WARNING:absl:Found untraced functions such as gru_cell_10_layer_call_fn, gru_cell_10_layer_call_and_return_conditional_losses while saving (showing 2 of 2). These functions will not be directly callable after loading.\n"
          ]
        },
        {
          "output_type": "stream",
          "name": "stdout",
          "text": [
            "INFO:tensorflow:Assets written to: model2/assets\n"
          ]
        },
        {
          "output_type": "stream",
          "name": "stderr",
          "text": [
            "INFO:tensorflow:Assets written to: model2/assets\n",
            "WARNING:absl:<keras.layers.recurrent.GRUCell object at 0x7f2e928a3650> has the same name 'GRUCell' as a built-in Keras object. Consider renaming <class 'keras.layers.recurrent.GRUCell'> to avoid naming conflicts when loading with `tf.keras.models.load_model`. If renaming is not possible, pass the object in the `custom_objects` parameter of the load function.\n"
          ]
        },
        {
          "output_type": "stream",
          "name": "stdout",
          "text": [
            "\b\b\b\b\b\b\b\b\b\b\b\b\b\b\b\b\b\b\b\b\b\b\b\b\b\b\b\b\b\b\b\b\b\b\b\b\b\b\b\b\b\b\b\b\b\b\b\b\b\b\b\b\b\b\b\b\b\b\b\b\b\b\b\b\b\b\b\b\b\b\b\b\b\b\b\b\b\b\b\b\b\b\b\b\b\b\b\b\b\b\b\b\b\b\b\b\b\r29/29 [==============================] - 4s 139ms/step - loss: 0.0123 - root_mean_squared_error: 0.1110 - val_loss: 0.0086 - val_root_mean_squared_error: 0.0928\n",
            "Epoch 7/20\n",
            "29/29 [==============================] - 0s 10ms/step - loss: 0.0137 - root_mean_squared_error: 0.1171 - val_loss: 0.0095 - val_root_mean_squared_error: 0.0975\n",
            "Epoch 8/20\n",
            "25/29 [========================>.....] - ETA: 0s - loss: 0.0127 - root_mean_squared_error: 0.1125"
          ]
        },
        {
          "output_type": "stream",
          "name": "stderr",
          "text": [
            "WARNING:absl:Found untraced functions such as gru_cell_10_layer_call_fn, gru_cell_10_layer_call_and_return_conditional_losses while saving (showing 2 of 2). These functions will not be directly callable after loading.\n"
          ]
        },
        {
          "output_type": "stream",
          "name": "stdout",
          "text": [
            "INFO:tensorflow:Assets written to: model2/assets\n"
          ]
        },
        {
          "output_type": "stream",
          "name": "stderr",
          "text": [
            "INFO:tensorflow:Assets written to: model2/assets\n",
            "WARNING:absl:<keras.layers.recurrent.GRUCell object at 0x7f2e928a3650> has the same name 'GRUCell' as a built-in Keras object. Consider renaming <class 'keras.layers.recurrent.GRUCell'> to avoid naming conflicts when loading with `tf.keras.models.load_model`. If renaming is not possible, pass the object in the `custom_objects` parameter of the load function.\n"
          ]
        },
        {
          "output_type": "stream",
          "name": "stdout",
          "text": [
            "\b\b\b\b\b\b\b\b\b\b\b\b\b\b\b\b\b\b\b\b\b\b\b\b\b\b\b\b\b\b\b\b\b\b\b\b\b\b\b\b\b\b\b\b\b\b\b\b\b\b\b\b\b\b\b\b\b\b\b\b\b\b\b\b\b\b\b\b\b\b\b\b\b\b\b\b\b\b\b\b\b\b\b\b\b\b\b\b\b\b\b\b\b\b\b\b\b\r29/29 [==============================] - 4s 138ms/step - loss: 0.0125 - root_mean_squared_error: 0.1117 - val_loss: 0.0082 - val_root_mean_squared_error: 0.0904\n",
            "Epoch 9/20\n",
            "29/29 [==============================] - 0s 10ms/step - loss: 0.0119 - root_mean_squared_error: 0.1089 - val_loss: 0.0113 - val_root_mean_squared_error: 0.1064\n",
            "Epoch 10/20\n",
            "25/29 [========================>.....] - ETA: 0s - loss: 0.0133 - root_mean_squared_error: 0.1152"
          ]
        },
        {
          "output_type": "stream",
          "name": "stderr",
          "text": [
            "WARNING:absl:Found untraced functions such as gru_cell_10_layer_call_fn, gru_cell_10_layer_call_and_return_conditional_losses while saving (showing 2 of 2). These functions will not be directly callable after loading.\n"
          ]
        },
        {
          "output_type": "stream",
          "name": "stdout",
          "text": [
            "INFO:tensorflow:Assets written to: model2/assets\n"
          ]
        },
        {
          "output_type": "stream",
          "name": "stderr",
          "text": [
            "INFO:tensorflow:Assets written to: model2/assets\n",
            "WARNING:absl:<keras.layers.recurrent.GRUCell object at 0x7f2e928a3650> has the same name 'GRUCell' as a built-in Keras object. Consider renaming <class 'keras.layers.recurrent.GRUCell'> to avoid naming conflicts when loading with `tf.keras.models.load_model`. If renaming is not possible, pass the object in the `custom_objects` parameter of the load function.\n"
          ]
        },
        {
          "output_type": "stream",
          "name": "stdout",
          "text": [
            "\b\b\b\b\b\b\b\b\b\b\b\b\b\b\b\b\b\b\b\b\b\b\b\b\b\b\b\b\b\b\b\b\b\b\b\b\b\b\b\b\b\b\b\b\b\b\b\b\b\b\b\b\b\b\b\b\b\b\b\b\b\b\b\b\b\b\b\b\b\b\b\b\b\b\b\b\b\b\b\b\b\b\b\b\b\b\b\b\b\b\b\b\b\b\b\b\b\r29/29 [==============================] - 5s 173ms/step - loss: 0.0129 - root_mean_squared_error: 0.1136 - val_loss: 0.0081 - val_root_mean_squared_error: 0.0900\n",
            "Epoch 11/20\n",
            "29/29 [==============================] - 0s 10ms/step - loss: 0.0125 - root_mean_squared_error: 0.1118 - val_loss: 0.0096 - val_root_mean_squared_error: 0.0977\n",
            "Epoch 12/20\n",
            "29/29 [==============================] - 0s 10ms/step - loss: 0.0163 - root_mean_squared_error: 0.1277 - val_loss: 0.0091 - val_root_mean_squared_error: 0.0953\n",
            "Epoch 13/20\n",
            "29/29 [==============================] - 0s 10ms/step - loss: 0.0148 - root_mean_squared_error: 0.1218 - val_loss: 0.0125 - val_root_mean_squared_error: 0.1120\n",
            "Epoch 14/20\n",
            "29/29 [==============================] - 0s 10ms/step - loss: 0.0134 - root_mean_squared_error: 0.1156 - val_loss: 0.0099 - val_root_mean_squared_error: 0.0997\n",
            "Epoch 15/20\n",
            "29/29 [==============================] - 0s 9ms/step - loss: 0.0122 - root_mean_squared_error: 0.1106 - val_loss: 0.0081 - val_root_mean_squared_error: 0.0900\n",
            "Epoch 16/20\n",
            "25/29 [========================>.....] - ETA: 0s - loss: 0.0143 - root_mean_squared_error: 0.1195"
          ]
        },
        {
          "output_type": "stream",
          "name": "stderr",
          "text": [
            "WARNING:absl:Found untraced functions such as gru_cell_10_layer_call_fn, gru_cell_10_layer_call_and_return_conditional_losses while saving (showing 2 of 2). These functions will not be directly callable after loading.\n"
          ]
        },
        {
          "output_type": "stream",
          "name": "stdout",
          "text": [
            "INFO:tensorflow:Assets written to: model2/assets\n"
          ]
        },
        {
          "output_type": "stream",
          "name": "stderr",
          "text": [
            "INFO:tensorflow:Assets written to: model2/assets\n",
            "WARNING:absl:<keras.layers.recurrent.GRUCell object at 0x7f2e928a3650> has the same name 'GRUCell' as a built-in Keras object. Consider renaming <class 'keras.layers.recurrent.GRUCell'> to avoid naming conflicts when loading with `tf.keras.models.load_model`. If renaming is not possible, pass the object in the `custom_objects` parameter of the load function.\n"
          ]
        },
        {
          "output_type": "stream",
          "name": "stdout",
          "text": [
            "\b\b\b\b\b\b\b\b\b\b\b\b\b\b\b\b\b\b\b\b\b\b\b\b\b\b\b\b\b\b\b\b\b\b\b\b\b\b\b\b\b\b\b\b\b\b\b\b\b\b\b\b\b\b\b\b\b\b\b\b\b\b\b\b\b\b\b\b\b\b\b\b\b\b\b\b\b\b\b\b\b\b\b\b\b\b\b\b\b\b\b\b\b\b\b\b\b\r29/29 [==============================] - 4s 141ms/step - loss: 0.0138 - root_mean_squared_error: 0.1173 - val_loss: 0.0080 - val_root_mean_squared_error: 0.0896\n",
            "Epoch 17/20\n",
            "29/29 [==============================] - 0s 10ms/step - loss: 0.0114 - root_mean_squared_error: 0.1067 - val_loss: 0.0081 - val_root_mean_squared_error: 0.0899\n",
            "Epoch 18/20\n",
            "29/29 [==============================] - 0s 10ms/step - loss: 0.0123 - root_mean_squared_error: 0.1109 - val_loss: 0.0152 - val_root_mean_squared_error: 0.1234\n",
            "Epoch 19/20\n",
            "29/29 [==============================] - 0s 13ms/step - loss: 0.0153 - root_mean_squared_error: 0.1235 - val_loss: 0.0081 - val_root_mean_squared_error: 0.0902\n",
            "Epoch 20/20\n",
            "29/29 [==============================] - 0s 10ms/step - loss: 0.0135 - root_mean_squared_error: 0.1162 - val_loss: 0.0092 - val_root_mean_squared_error: 0.0958\n"
          ]
        },
        {
          "output_type": "execute_result",
          "data": {
            "text/plain": [
              "<keras.callbacks.History at 0x7f2e9b071690>"
            ]
          },
          "metadata": {},
          "execution_count": 194
        }
      ]
    },
    {
      "cell_type": "code",
      "source": [
        "model2=load_model('model2/')\n",
        "predict2=model2.predict(x_test).flatten()\n",
        "pred_df2=pd.DataFrame(data={'Predictions':predict2,'Actual':y_test})\n",
        "pred_df2.head()"
      ],
      "metadata": {
        "colab": {
          "base_uri": "https://localhost:8080/",
          "height": 206
        },
        "id": "lKaBZ05Pmhtu",
        "outputId": "bce996ed-4923-4627-d7e4-1f03750855c4"
      },
      "execution_count": null,
      "outputs": [
        {
          "output_type": "execute_result",
          "data": {
            "text/plain": [
              "   Predictions  Actual\n",
              "0     6.697415    8.49\n",
              "1     6.678788    8.70\n",
              "2     6.718437    8.15\n",
              "3     6.622390    8.69\n",
              "4     6.720471    8.82"
            ],
            "text/html": [
              "\n",
              "  <div id=\"df-b628b41f-23f6-4280-9bdd-dbe62fbac996\">\n",
              "    <div class=\"colab-df-container\">\n",
              "      <div>\n",
              "<style scoped>\n",
              "    .dataframe tbody tr th:only-of-type {\n",
              "        vertical-align: middle;\n",
              "    }\n",
              "\n",
              "    .dataframe tbody tr th {\n",
              "        vertical-align: top;\n",
              "    }\n",
              "\n",
              "    .dataframe thead th {\n",
              "        text-align: right;\n",
              "    }\n",
              "</style>\n",
              "<table border=\"1\" class=\"dataframe\">\n",
              "  <thead>\n",
              "    <tr style=\"text-align: right;\">\n",
              "      <th></th>\n",
              "      <th>Predictions</th>\n",
              "      <th>Actual</th>\n",
              "    </tr>\n",
              "  </thead>\n",
              "  <tbody>\n",
              "    <tr>\n",
              "      <th>0</th>\n",
              "      <td>6.697415</td>\n",
              "      <td>8.49</td>\n",
              "    </tr>\n",
              "    <tr>\n",
              "      <th>1</th>\n",
              "      <td>6.678788</td>\n",
              "      <td>8.70</td>\n",
              "    </tr>\n",
              "    <tr>\n",
              "      <th>2</th>\n",
              "      <td>6.718437</td>\n",
              "      <td>8.15</td>\n",
              "    </tr>\n",
              "    <tr>\n",
              "      <th>3</th>\n",
              "      <td>6.622390</td>\n",
              "      <td>8.69</td>\n",
              "    </tr>\n",
              "    <tr>\n",
              "      <th>4</th>\n",
              "      <td>6.720471</td>\n",
              "      <td>8.82</td>\n",
              "    </tr>\n",
              "  </tbody>\n",
              "</table>\n",
              "</div>\n",
              "      <button class=\"colab-df-convert\" onclick=\"convertToInteractive('df-b628b41f-23f6-4280-9bdd-dbe62fbac996')\"\n",
              "              title=\"Convert this dataframe to an interactive table.\"\n",
              "              style=\"display:none;\">\n",
              "        \n",
              "  <svg xmlns=\"http://www.w3.org/2000/svg\" height=\"24px\"viewBox=\"0 0 24 24\"\n",
              "       width=\"24px\">\n",
              "    <path d=\"M0 0h24v24H0V0z\" fill=\"none\"/>\n",
              "    <path d=\"M18.56 5.44l.94 2.06.94-2.06 2.06-.94-2.06-.94-.94-2.06-.94 2.06-2.06.94zm-11 1L8.5 8.5l.94-2.06 2.06-.94-2.06-.94L8.5 2.5l-.94 2.06-2.06.94zm10 10l.94 2.06.94-2.06 2.06-.94-2.06-.94-.94-2.06-.94 2.06-2.06.94z\"/><path d=\"M17.41 7.96l-1.37-1.37c-.4-.4-.92-.59-1.43-.59-.52 0-1.04.2-1.43.59L10.3 9.45l-7.72 7.72c-.78.78-.78 2.05 0 2.83L4 21.41c.39.39.9.59 1.41.59.51 0 1.02-.2 1.41-.59l7.78-7.78 2.81-2.81c.8-.78.8-2.07 0-2.86zM5.41 20L4 18.59l7.72-7.72 1.47 1.35L5.41 20z\"/>\n",
              "  </svg>\n",
              "      </button>\n",
              "      \n",
              "  <style>\n",
              "    .colab-df-container {\n",
              "      display:flex;\n",
              "      flex-wrap:wrap;\n",
              "      gap: 12px;\n",
              "    }\n",
              "\n",
              "    .colab-df-convert {\n",
              "      background-color: #E8F0FE;\n",
              "      border: none;\n",
              "      border-radius: 50%;\n",
              "      cursor: pointer;\n",
              "      display: none;\n",
              "      fill: #1967D2;\n",
              "      height: 32px;\n",
              "      padding: 0 0 0 0;\n",
              "      width: 32px;\n",
              "    }\n",
              "\n",
              "    .colab-df-convert:hover {\n",
              "      background-color: #E2EBFA;\n",
              "      box-shadow: 0px 1px 2px rgba(60, 64, 67, 0.3), 0px 1px 3px 1px rgba(60, 64, 67, 0.15);\n",
              "      fill: #174EA6;\n",
              "    }\n",
              "\n",
              "    [theme=dark] .colab-df-convert {\n",
              "      background-color: #3B4455;\n",
              "      fill: #D2E3FC;\n",
              "    }\n",
              "\n",
              "    [theme=dark] .colab-df-convert:hover {\n",
              "      background-color: #434B5C;\n",
              "      box-shadow: 0px 1px 3px 1px rgba(0, 0, 0, 0.15);\n",
              "      filter: drop-shadow(0px 1px 2px rgba(0, 0, 0, 0.3));\n",
              "      fill: #FFFFFF;\n",
              "    }\n",
              "  </style>\n",
              "\n",
              "      <script>\n",
              "        const buttonEl =\n",
              "          document.querySelector('#df-b628b41f-23f6-4280-9bdd-dbe62fbac996 button.colab-df-convert');\n",
              "        buttonEl.style.display =\n",
              "          google.colab.kernel.accessAllowed ? 'block' : 'none';\n",
              "\n",
              "        async function convertToInteractive(key) {\n",
              "          const element = document.querySelector('#df-b628b41f-23f6-4280-9bdd-dbe62fbac996');\n",
              "          const dataTable =\n",
              "            await google.colab.kernel.invokeFunction('convertToInteractive',\n",
              "                                                     [key], {});\n",
              "          if (!dataTable) return;\n",
              "\n",
              "          const docLinkHtml = 'Like what you see? Visit the ' +\n",
              "            '<a target=\"_blank\" href=https://colab.research.google.com/notebooks/data_table.ipynb>data table notebook</a>'\n",
              "            + ' to learn more about interactive tables.';\n",
              "          element.innerHTML = '';\n",
              "          dataTable['output_type'] = 'display_data';\n",
              "          await google.colab.output.renderOutput(dataTable, element);\n",
              "          const docLink = document.createElement('div');\n",
              "          docLink.innerHTML = docLinkHtml;\n",
              "          element.appendChild(docLink);\n",
              "        }\n",
              "      </script>\n",
              "    </div>\n",
              "  </div>\n",
              "  "
            ]
          },
          "metadata": {},
          "execution_count": 195
        }
      ]
    },
    {
      "cell_type": "code",
      "source": [
        "model2_mse=mse(y_test,predict2)\n",
        "print('GRU MSE:  ',str(model2_mse))"
      ],
      "metadata": {
        "colab": {
          "base_uri": "https://localhost:8080/"
        },
        "id": "mK4KrRPDnFjh",
        "outputId": "5c2fdad1-8702-4d02-9502-1b91fe16b10e"
      },
      "execution_count": null,
      "outputs": [
        {
          "output_type": "stream",
          "name": "stdout",
          "text": [
            "GRU MSE:   0.11591719637648058\n"
          ]
        }
      ]
    },
    {
      "cell_type": "code",
      "source": [
        "plt.plot(pred_df2['Predictions'],label='Predictions')\n",
        "plt.plot(pred_df2['Actual'],label='Actual')\n",
        "plt.xlabel('Time')\n",
        "plt.ylabel('Price')\n",
        "plt.legend(loc='upper right')\n",
        "plt.title('GRU Results')"
      ],
      "metadata": {
        "colab": {
          "base_uri": "https://localhost:8080/",
          "height": 312
        },
        "id": "ZtZ3VVY3CzHV",
        "outputId": "ad68334e-4e39-4521-b502-0535812a9940"
      },
      "execution_count": null,
      "outputs": [
        {
          "output_type": "execute_result",
          "data": {
            "text/plain": [
              "Text(0.5, 1.0, 'GRU Results')"
            ]
          },
          "metadata": {},
          "execution_count": 197
        },
        {
          "output_type": "display_data",
          "data": {
            "text/plain": [
              "<Figure size 432x288 with 1 Axes>"
            ],
            "image/png": "[encoded data removed]"
          },
          "metadata": {
            "needs_background": "light"
          }
        }
      ]
    },
    {
      "cell_type": "markdown",
      "source": [
        "### **Simple RNN**"
      ],
      "metadata": {
        "id": "PKEGJSDd-LWq"
      }
    },
    {
      "cell_type": "code",
      "source": [
        "model3=Sequential()\n",
        "model3.add(InputLayer((10,1)))\n",
        "model3.add(SimpleRNN(64))\n",
        "model3.add(Dense(10,'relu'))\n",
        "model3.add(Dense(1,'linear'))\n",
        "\n",
        "model3.summary()"
      ],
      "metadata": {
        "colab": {
          "base_uri": "https://localhost:8080/"
        },
        "outputId": "1844ae99-7cd0-49de-96f3-044a38745b9a",
        "id": "NeXPqoN--ZzP"
      },
      "execution_count": null,
      "outputs": [
        {
          "output_type": "stream",
          "name": "stdout",
          "text": [
            "Model: \"sequential_18\"\n",
            "_________________________________________________________________\n",
            " Layer (type)                Output Shape              Param #   \n",
            "=================================================================\n",
            " simple_rnn_5 (SimpleRNN)    (None, 64)                4224      \n",
            "                                                                 \n",
            " dense_36 (Dense)            (None, 10)                650       \n",
            "                                                                 \n",
            " dense_37 (Dense)            (None, 1)                 11        \n",
            "                                                                 \n",
            "=================================================================\n",
            "Total params: 4,885\n",
            "Trainable params: 4,885\n",
            "Non-trainable params: 0\n",
            "_________________________________________________________________\n"
          ]
        }
      ]
    },
    {
      "cell_type": "code",
      "source": [
        "checkPoint3=ModelCheckpoint('model3/',save_best_only=True)\n",
        "model3.compile(optimizer=Adam(learning_rate=0.01),loss=MeanSquaredError(),metrics=[RootMeanSquaredError()])\n",
        "model3.fit(x_train,y_train,validation_data=(x_val,y_val),epochs=20,callbacks=[checkPoint3])"
      ],
      "metadata": {
        "colab": {
          "base_uri": "https://localhost:8080/"
        },
        "outputId": "ec752e8f-6450-4719-84d6-8080e8d5c8e2",
        "id": "7EsI15HM-ZzQ"
      },
      "execution_count": null,
      "outputs": [
        {
          "output_type": "stream",
          "name": "stdout",
          "text": [
            "Epoch 1/20\n",
            "17/29 [================>.............] - ETA: 0s - loss: 1.7132 - root_mean_squared_error: 1.3089 INFO:tensorflow:Assets written to: model3/assets\n"
          ]
        },
        {
          "output_type": "stream",
          "name": "stderr",
          "text": [
            "INFO:tensorflow:Assets written to: model3/assets\n"
          ]
        },
        {
          "output_type": "stream",
          "name": "stdout",
          "text": [
            "\b\b\b\b\b\b\b\b\b\b\b\b\b\b\b\b\b\b\b\b\b\b\b\b\b\b\b\b\b\b\b\b\b\b\b\b\b\b\b\b\b\b\b\b\b\b\b\b\b\b\b\b\b\b\b\b\b\b\b\b\b\b\b\b\b\b\b\b\b\b\b\b\b\b\b\b\b\b\b\b\b\b\b\b\b\b\b\b\b\b\b\b\b\b\b\b\b\r29/29 [==============================] - 3s 68ms/step - loss: 1.2206 - root_mean_squared_error: 1.1048 - val_loss: 0.2564 - val_root_mean_squared_error: 0.5064\n",
            "Epoch 2/20\n",
            "28/29 [===========================>..] - ETA: 0s - loss: 0.1555 - root_mean_squared_error: 0.3943INFO:tensorflow:Assets written to: model3/assets\n"
          ]
        },
        {
          "output_type": "stream",
          "name": "stderr",
          "text": [
            "INFO:tensorflow:Assets written to: model3/assets\n"
          ]
        },
        {
          "output_type": "stream",
          "name": "stdout",
          "text": [
            "\b\b\b\b\b\b\b\b\b\b\b\b\b\b\b\b\b\b\b\b\b\b\b\b\b\b\b\b\b\b\b\b\b\b\b\b\b\b\b\b\b\b\b\b\b\b\b\b\b\b\b\b\b\b\b\b\b\b\b\b\b\b\b\b\b\b\b\b\b\b\b\b\b\b\b\b\b\b\b\b\b\b\b\b\b\b\b\b\b\b\b\b\b\b\b\b\b\r29/29 [==============================] - 3s 92ms/step - loss: 0.1520 - root_mean_squared_error: 0.3898 - val_loss: 0.0186 - val_root_mean_squared_error: 0.1365\n",
            "Epoch 3/20\n",
            "29/29 [==============================] - 0s 7ms/step - loss: 0.0200 - root_mean_squared_error: 0.1415 - val_loss: 0.0263 - val_root_mean_squared_error: 0.1621\n",
            "Epoch 4/20\n",
            "16/29 [===============>..............] - ETA: 0s - loss: 0.0184 - root_mean_squared_error: 0.1357INFO:tensorflow:Assets written to: model3/assets\n"
          ]
        },
        {
          "output_type": "stream",
          "name": "stderr",
          "text": [
            "INFO:tensorflow:Assets written to: model3/assets\n"
          ]
        },
        {
          "output_type": "stream",
          "name": "stdout",
          "text": [
            "\b\b\b\b\b\b\b\b\b\b\b\b\b\b\b\b\b\b\b\b\b\b\b\b\b\b\b\b\b\b\b\b\b\b\b\b\b\b\b\b\b\b\b\b\b\b\b\b\b\b\b\b\b\b\b\b\b\b\b\b\b\b\b\b\b\b\b\b\b\b\b\b\b\b\b\b\b\b\b\b\b\b\b\b\b\b\b\b\b\b\b\b\b\b\b\b\b\r29/29 [==============================] - 2s 63ms/step - loss: 0.0261 - root_mean_squared_error: 0.1617 - val_loss: 0.0137 - val_root_mean_squared_error: 0.1172\n",
            "Epoch 5/20\n",
            "29/29 [==============================] - 0s 6ms/step - loss: 0.0205 - root_mean_squared_error: 0.1432 - val_loss: 0.0253 - val_root_mean_squared_error: 0.1590\n",
            "Epoch 6/20\n",
            "29/29 [==============================] - 0s 6ms/step - loss: 0.0187 - root_mean_squared_error: 0.1368 - val_loss: 0.0514 - val_root_mean_squared_error: 0.2266\n",
            "Epoch 7/20\n",
            "29/29 [==============================] - 0s 7ms/step - loss: 0.0261 - root_mean_squared_error: 0.1616 - val_loss: 0.0430 - val_root_mean_squared_error: 0.2074\n",
            "Epoch 8/20\n",
            "29/29 [==============================] - 0s 7ms/step - loss: 0.0188 - root_mean_squared_error: 0.1372 - val_loss: 0.0191 - val_root_mean_squared_error: 0.1384\n",
            "Epoch 9/20\n",
            "29/29 [==============================] - 0s 7ms/step - loss: 0.0193 - root_mean_squared_error: 0.1391 - val_loss: 0.0186 - val_root_mean_squared_error: 0.1364\n",
            "Epoch 10/20\n",
            "29/29 [==============================] - ETA: 0s - loss: 0.0180 - root_mean_squared_error: 0.1342INFO:tensorflow:Assets written to: model3/assets\n"
          ]
        },
        {
          "output_type": "stream",
          "name": "stderr",
          "text": [
            "INFO:tensorflow:Assets written to: model3/assets\n"
          ]
        },
        {
          "output_type": "stream",
          "name": "stdout",
          "text": [
            "\b\b\b\b\b\b\b\b\b\b\b\b\b\b\b\b\b\b\b\b\b\b\b\b\b\b\b\b\b\b\b\b\b\b\b\b\b\b\b\b\b\b\b\b\b\b\b\b\b\b\b\b\b\b\b\b\b\b\b\b\b\b\b\b\b\b\b\b\b\b\b\b\b\b\b\b\b\b\b\b\b\b\b\b\b\b\b\b\b\b\b\b\b\b\b\b\b\r29/29 [==============================] - 2s 63ms/step - loss: 0.0180 - root_mean_squared_error: 0.1342 - val_loss: 0.0088 - val_root_mean_squared_error: 0.0938\n",
            "Epoch 11/20\n",
            "27/29 [==========================>...] - ETA: 0s - loss: 0.0139 - root_mean_squared_error: 0.1180INFO:tensorflow:Assets written to: model3/assets\n"
          ]
        },
        {
          "output_type": "stream",
          "name": "stderr",
          "text": [
            "INFO:tensorflow:Assets written to: model3/assets\n"
          ]
        },
        {
          "output_type": "stream",
          "name": "stdout",
          "text": [
            "\b\b\b\b\b\b\b\b\b\b\b\b\b\b\b\b\b\b\b\b\b\b\b\b\b\b\b\b\b\b\b\b\b\b\b\b\b\b\b\b\b\b\b\b\b\b\b\b\b\b\b\b\b\b\b\b\b\b\b\b\b\b\b\b\b\b\b\b\b\b\b\b\b\b\b\b\b\b\b\b\b\b\b\b\b\b\b\b\b\b\b\b\b\b\b\b\b\r29/29 [==============================] - 2s 63ms/step - loss: 0.0137 - root_mean_squared_error: 0.1169 - val_loss: 0.0082 - val_root_mean_squared_error: 0.0904\n",
            "Epoch 12/20\n",
            "29/29 [==============================] - 0s 6ms/step - loss: 0.0127 - root_mean_squared_error: 0.1125 - val_loss: 0.0121 - val_root_mean_squared_error: 0.1102\n",
            "Epoch 13/20\n",
            "29/29 [==============================] - 0s 6ms/step - loss: 0.0171 - root_mean_squared_error: 0.1307 - val_loss: 0.0245 - val_root_mean_squared_error: 0.1567\n",
            "Epoch 14/20\n",
            "29/29 [==============================] - 0s 6ms/step - loss: 0.0135 - root_mean_squared_error: 0.1161 - val_loss: 0.0156 - val_root_mean_squared_error: 0.1250\n",
            "Epoch 15/20\n",
            "29/29 [==============================] - 0s 6ms/step - loss: 0.0191 - root_mean_squared_error: 0.1382 - val_loss: 0.0093 - val_root_mean_squared_error: 0.0964\n",
            "Epoch 16/20\n",
            "29/29 [==============================] - 0s 6ms/step - loss: 0.0142 - root_mean_squared_error: 0.1191 - val_loss: 0.0086 - val_root_mean_squared_error: 0.0926\n",
            "Epoch 17/20\n",
            "29/29 [==============================] - 0s 6ms/step - loss: 0.0167 - root_mean_squared_error: 0.1291 - val_loss: 0.0209 - val_root_mean_squared_error: 0.1445\n",
            "Epoch 18/20\n",
            "29/29 [==============================] - 0s 6ms/step - loss: 0.0174 - root_mean_squared_error: 0.1319 - val_loss: 0.0121 - val_root_mean_squared_error: 0.1101\n",
            "Epoch 19/20\n",
            "29/29 [==============================] - 0s 7ms/step - loss: 0.0129 - root_mean_squared_error: 0.1134 - val_loss: 0.0086 - val_root_mean_squared_error: 0.0926\n",
            "Epoch 20/20\n",
            "29/29 [==============================] - 0s 6ms/step - loss: 0.0261 - root_mean_squared_error: 0.1616 - val_loss: 0.0093 - val_root_mean_squared_error: 0.0963\n"
          ]
        },
        {
          "output_type": "execute_result",
          "data": {
            "text/plain": [
              "<keras.callbacks.History at 0x7f2e939aca50>"
            ]
          },
          "metadata": {},
          "execution_count": 199
        }
      ]
    },
    {
      "cell_type": "code",
      "source": [
        "model3=load_model('model3/')\n",
        "predict3=model3.predict(x_test).flatten()\n",
        "pred_df3=pd.DataFrame(data={'Predictions':predict3,'Actual':y_test})\n",
        "pred_df3.head()"
      ],
      "metadata": {
        "colab": {
          "base_uri": "https://localhost:8080/",
          "height": 206
        },
        "outputId": "efc79e3f-2b54-41b7-9e34-76555b4f2d40",
        "id": "iDOtUsvA-ZzQ"
      },
      "execution_count": null,
      "outputs": [
        {
          "output_type": "execute_result",
          "data": {
            "text/plain": [
              "   Predictions  Actual\n",
              "0     6.222510    8.49\n",
              "1     6.206355    8.70\n",
              "2     6.214241    8.15\n",
              "3     6.187701    8.69\n",
              "4     6.209029    8.82"
            ],
            "text/html": [
              "\n",
              "  <div id=\"df-f6caac28-89d3-4306-a607-c12bfb53be82\">\n",
              "    <div class=\"colab-df-container\">\n",
              "      <div>\n",
              "<style scoped>\n",
              "    .dataframe tbody tr th:only-of-type {\n",
              "        vertical-align: middle;\n",
              "    }\n",
              "\n",
              "    .dataframe tbody tr th {\n",
              "        vertical-align: top;\n",
              "    }\n",
              "\n",
              "    .dataframe thead th {\n",
              "        text-align: right;\n",
              "    }\n",
              "</style>\n",
              "<table border=\"1\" class=\"dataframe\">\n",
              "  <thead>\n",
              "    <tr style=\"text-align: right;\">\n",
              "      <th></th>\n",
              "      <th>Predictions</th>\n",
              "      <th>Actual</th>\n",
              "    </tr>\n",
              "  </thead>\n",
              "  <tbody>\n",
              "    <tr>\n",
              "      <th>0</th>\n",
              "      <td>6.222510</td>\n",
              "      <td>8.49</td>\n",
              "    </tr>\n",
              "    <tr>\n",
              "      <th>1</th>\n",
              "      <td>6.206355</td>\n",
              "      <td>8.70</td>\n",
              "    </tr>\n",
              "    <tr>\n",
              "      <th>2</th>\n",
              "      <td>6.214241</td>\n",
              "      <td>8.15</td>\n",
              "    </tr>\n",
              "    <tr>\n",
              "      <th>3</th>\n",
              "      <td>6.187701</td>\n",
              "      <td>8.69</td>\n",
              "    </tr>\n",
              "    <tr>\n",
              "      <th>4</th>\n",
              "      <td>6.209029</td>\n",
              "      <td>8.82</td>\n",
              "    </tr>\n",
              "  </tbody>\n",
              "</table>\n",
              "</div>\n",
              "      <button class=\"colab-df-convert\" onclick=\"convertToInteractive('df-f6caac28-89d3-4306-a607-c12bfb53be82')\"\n",
              "              title=\"Convert this dataframe to an interactive table.\"\n",
              "              style=\"display:none;\">\n",
              "        \n",
              "  <svg xmlns=\"http://www.w3.org/2000/svg\" height=\"24px\"viewBox=\"0 0 24 24\"\n",
              "       width=\"24px\">\n",
              "    <path d=\"M0 0h24v24H0V0z\" fill=\"none\"/>\n",
              "    <path d=\"M18.56 5.44l.94 2.06.94-2.06 2.06-.94-2.06-.94-.94-2.06-.94 2.06-2.06.94zm-11 1L8.5 8.5l.94-2.06 2.06-.94-2.06-.94L8.5 2.5l-.94 2.06-2.06.94zm10 10l.94 2.06.94-2.06 2.06-.94-2.06-.94-.94-2.06-.94 2.06-2.06.94z\"/><path d=\"M17.41 7.96l-1.37-1.37c-.4-.4-.92-.59-1.43-.59-.52 0-1.04.2-1.43.59L10.3 9.45l-7.72 7.72c-.78.78-.78 2.05 0 2.83L4 21.41c.39.39.9.59 1.41.59.51 0 1.02-.2 1.41-.59l7.78-7.78 2.81-2.81c.8-.78.8-2.07 0-2.86zM5.41 20L4 18.59l7.72-7.72 1.47 1.35L5.41 20z\"/>\n",
              "  </svg>\n",
              "      </button>\n",
              "      \n",
              "  <style>\n",
              "    .colab-df-container {\n",
              "      display:flex;\n",
              "      flex-wrap:wrap;\n",
              "      gap: 12px;\n",
              "    }\n",
              "\n",
              "    .colab-df-convert {\n",
              "      background-color: #E8F0FE;\n",
              "      border: none;\n",
              "      border-radius: 50%;\n",
              "      cursor: pointer;\n",
              "      display: none;\n",
              "      fill: #1967D2;\n",
              "      height: 32px;\n",
              "      padding: 0 0 0 0;\n",
              "      width: 32px;\n",
              "    }\n",
              "\n",
              "    .colab-df-convert:hover {\n",
              "      background-color: #E2EBFA;\n",
              "      box-shadow: 0px 1px 2px rgba(60, 64, 67, 0.3), 0px 1px 3px 1px rgba(60, 64, 67, 0.15);\n",
              "      fill: #174EA6;\n",
              "    }\n",
              "\n",
              "    [theme=dark] .colab-df-convert {\n",
              "      background-color: #3B4455;\n",
              "      fill: #D2E3FC;\n",
              "    }\n",
              "\n",
              "    [theme=dark] .colab-df-convert:hover {\n",
              "      background-color: #434B5C;\n",
              "      box-shadow: 0px 1px 3px 1px rgba(0, 0, 0, 0.15);\n",
              "      filter: drop-shadow(0px 1px 2px rgba(0, 0, 0, 0.3));\n",
              "      fill: #FFFFFF;\n",
              "    }\n",
              "  </style>\n",
              "\n",
              "      <script>\n",
              "        const buttonEl =\n",
              "          document.querySelector('#df-f6caac28-89d3-4306-a607-c12bfb53be82 button.colab-df-convert');\n",
              "        buttonEl.style.display =\n",
              "          google.colab.kernel.accessAllowed ? 'block' : 'none';\n",
              "\n",
              "        async function convertToInteractive(key) {\n",
              "          const element = document.querySelector('#df-f6caac28-89d3-4306-a607-c12bfb53be82');\n",
              "          const dataTable =\n",
              "            await google.colab.kernel.invokeFunction('convertToInteractive',\n",
              "                                                     [key], {});\n",
              "          if (!dataTable) return;\n",
              "\n",
              "          const docLinkHtml = 'Like what you see? Visit the ' +\n",
              "            '<a target=\"_blank\" href=https://colab.research.google.com/notebooks/data_table.ipynb>data table notebook</a>'\n",
              "            + ' to learn more about interactive tables.';\n",
              "          element.innerHTML = '';\n",
              "          dataTable['output_type'] = 'display_data';\n",
              "          await google.colab.output.renderOutput(dataTable, element);\n",
              "          const docLink = document.createElement('div');\n",
              "          docLink.innerHTML = docLinkHtml;\n",
              "          element.appendChild(docLink);\n",
              "        }\n",
              "      </script>\n",
              "    </div>\n",
              "  </div>\n",
              "  "
            ]
          },
          "metadata": {},
          "execution_count": 200
        }
      ]
    },
    {
      "cell_type": "code",
      "source": [
        "model3_mse=mse(y_test,predict3)\n",
        "print('Simple RNN MSE:  ',str(model3_mse))"
      ],
      "metadata": {
        "colab": {
          "base_uri": "https://localhost:8080/"
        },
        "outputId": "42d8e906-8693-4e86-c14d-191f145d3537",
        "id": "O7tmlnos-ZzR"
      },
      "execution_count": null,
      "outputs": [
        {
          "output_type": "stream",
          "name": "stdout",
          "text": [
            "Simple RNN MSE:   0.1777058205095581\n"
          ]
        }
      ]
    },
    {
      "cell_type": "code",
      "source": [
        "plt.plot(pred_df3['Predictions'],label='Predictions')\n",
        "plt.plot(pred_df3['Actual'],label='Actual')\n",
        "plt.xlabel('Time')\n",
        "plt.ylabel('Price')\n",
        "plt.legend(loc='upper right')\n",
        "plt.title('Simple RNN Results')"
      ],
      "metadata": {
        "colab": {
          "base_uri": "https://localhost:8080/",
          "height": 312
        },
        "id": "VHh83ikhC2B1",
        "outputId": "10e93032-cfa7-473d-c04c-1742641bc4fb"
      },
      "execution_count": null,
      "outputs": [
        {
          "output_type": "execute_result",
          "data": {
            "text/plain": [
              "Text(0.5, 1.0, 'Simple RNN Results')"
            ]
          },
          "metadata": {},
          "execution_count": 202
        },
        {
          "output_type": "display_data",
          "data": {
            "text/plain": [
              "<Figure size 432x288 with 1 Axes>"
            ],
            "image/png": "[encoded data removed]"
          },
          "metadata": {
            "needs_background": "light"
          }
        }
      ]
    }
  ]
}